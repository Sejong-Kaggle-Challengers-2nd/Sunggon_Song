{
 "cells": [
  {
   "cell_type": "markdown",
   "metadata": {},
   "source": [
    "<a href=\"https://dacon.io/competitions/official/17801/codeshare/442?page=1&dtype=recent\">링크</a>"
   ]
  },
  {
   "cell_type": "code",
   "execution_count": 6,
   "metadata": {},
   "outputs": [],
   "source": [
    "from sklearn.ensemble import RandomForestRegressor\n",
    "import numpy as np\n",
    "from sklearn.preprocessing import LabelEncoder\n",
    "from sklearn.preprocessing import OneHotEncoder\n",
    "\n",
    "from sklearn.model_selection import cross_val_score\n",
    "#clf = svm.SVC(kernel='linear', C=1)\n",
    "\n",
    "\n",
    "from scipy.stats import uniform, randint\n",
    "\n",
    "from sklearn.datasets import load_breast_cancer, load_diabetes, load_wine\n",
    "from sklearn.metrics import auc, accuracy_score, confusion_matrix, mean_squared_error\n",
    "from sklearn.model_selection import cross_val_score, GridSearchCV, KFold, RandomizedSearchCV, train_test_split\n",
    "\n",
    "import xgboost as xgb\n",
    " \n",
    "import pandas as pd\n",
    "import matplotlib.pyplot as plt\n",
    "import seaborn as sns\n",
    "plt.style.use('fivethirtyeight')\n",
    "import warnings\n",
    "warnings.filterwarnings('ignore')\n",
    "%matplotlib inline\n",
    "from matplotlib import rc, font_manager\n",
    "rc('font',family=\"NanumSquareR\")\n",
    "from datetime import datetime\n",
    "import featuretools as ft\n",
    "from datetime import datetime\n",
    "import os\n",
    "from sklearn.ensemble import RandomForestClassifier\n",
    "from sklearn.linear_model import LinearRegression\n",
    "import scipy.stats as st\n",
    "#-*- coding: utf-8 -*-"
   ]
  },
  {
   "cell_type": "code",
   "execution_count": 8,
   "metadata": {},
   "outputs": [],
   "source": [
    "os.chdir(\"C:\\\\kaggle_data\\\\house_auction\\\\\")\n",
    "\n",
    "train=pd.read_csv(\"Auction_master_train.csv\")\n",
    "train=train.loc[train['Auction_key']!=10,]\n",
    "test=pd.read_csv(\"Auction_master_test.csv\")\n",
    "regist=pd.read_csv(\"Auction_regist.csv\")\n",
    "rent=pd.read_csv(\"Auction_rent.csv\")\n",
    "result=pd.read_csv(\"Auction_result.csv\")"
   ]
  },
  {
   "cell_type": "code",
   "execution_count": 9,
   "metadata": {},
   "outputs": [
    {
     "data": {
      "text/plain": [
       "Auction_key                   -0.494335\n",
       "point.x                       -0.357186\n",
       "Auction_count                 -0.060598\n",
       "Auction_miscarriage_count     -0.059509\n",
       "addr_bunji1                   -0.018607\n",
       "addr_bunji2                    0.000084\n",
       "road_bunji1                    0.028545\n",
       "Total_land_gross_area          0.094260\n",
       "road_bunji2                    0.206681\n",
       "Claim_price                    0.227550\n",
       "Current_floor                  0.263951\n",
       "Total_floor                    0.288378\n",
       "point.y                        0.357915\n",
       "Total_land_real_area           0.457389\n",
       "Total_land_auction_area        0.470488\n",
       "Total_building_area            0.644298\n",
       "Total_building_auction_area    0.651966\n",
       "Total_appraisal_price          0.976729\n",
       "Minimum_sales_price            0.992170\n",
       "Hammer_price                   1.000000\n",
       "Name: Hammer_price, dtype: float64"
      ]
     },
     "execution_count": 9,
     "metadata": {},
     "output_type": "execute_result"
    }
   ],
   "source": [
    "train.corr()['Hammer_price'].sort_values()"
   ]
  },
  {
   "cell_type": "code",
   "execution_count": 10,
   "metadata": {},
   "outputs": [
    {
     "data": {
      "text/plain": [
       "<matplotlib.collections.PathCollection at 0x267a71c0148>"
      ]
     },
     "execution_count": 10,
     "metadata": {},
     "output_type": "execute_result"
    },
    {
     "name": "stderr",
     "output_type": "stream",
     "text": [
      "findfont: Font family ['NanumSquareR'] not found. Falling back to DejaVu Sans.\n"
     ]
    },
    {
     "data": {
      "image/png": "[encoded data removed]",
      "text/plain": [
       "<Figure size 432x288 with 1 Axes>"
      ]
     },
     "metadata": {
      "needs_background": "light"
     },
     "output_type": "display_data"
    }
   ],
   "source": [
    "plt.scatter(train['Minimum_sales_price'],train['Hammer_price'])"
   ]
  },
  {
   "cell_type": "code",
   "execution_count": 11,
   "metadata": {},
   "outputs": [],
   "source": [
    "train['real']=train['Hammer_price']/train['Minimum_sales_price']\n",
    "test['real']=test['Hammer_price']/test['Minimum_sales_price']"
   ]
  },
  {
   "cell_type": "code",
   "execution_count": 14,
   "metadata": {},
   "outputs": [],
   "source": [
    "cop=train.copy()\n",
    "cop['x']=pd.cut(train['point.x'],100)\n",
    "cop['y']=pd.cut(train['point.y'],100)"
   ]
  },
  {
   "cell_type": "code",
   "execution_count": 18,
   "metadata": {},
   "outputs": [
    {
     "data": {
      "text/plain": [
       "x                   y               \n",
       "(126.807, 126.834]  (35.049, 35.078]    0\n",
       "                    (35.078, 35.104]    0\n",
       "                    (35.104, 35.13]     0\n",
       "                    (35.13, 35.157]     0\n",
       "                    (35.157, 35.183]    0\n",
       "                                       ..\n",
       "(129.231, 129.256]  (37.554, 37.58]     0\n",
       "                    (37.58, 37.607]     0\n",
       "                    (37.607, 37.633]    0\n",
       "                    (37.633, 37.659]    0\n",
       "                    (37.659, 37.686]    0\n",
       "Length: 10000, dtype: int64"
      ]
     },
     "execution_count": 18,
     "metadata": {},
     "output_type": "execute_result"
    }
   ],
   "source": [
    "cop.groupby(['x','y']).size()"
   ]
  },
  {
   "cell_type": "code",
   "execution_count": 16,
   "metadata": {
    "scrolled": true
   },
   "outputs": [],
   "source": [
    "cop1=cop.groupby(['x','y']).size().reset_index(name='count') # 100 x 100"
   ]
  },
  {
   "cell_type": "code",
   "execution_count": 17,
   "metadata": {},
   "outputs": [
    {
     "data": {
      "text/html": [
       "<div>\n",
       "<style scoped>\n",
       "    .dataframe tbody tr th:only-of-type {\n",
       "        vertical-align: middle;\n",
       "    }\n",
       "\n",
       "    .dataframe tbody tr th {\n",
       "        vertical-align: top;\n",
       "    }\n",
       "\n",
       "    .dataframe thead th {\n",
       "        text-align: right;\n",
       "    }\n",
       "</style>\n",
       "<table border=\"1\" class=\"dataframe\">\n",
       "  <thead>\n",
       "    <tr style=\"text-align: right;\">\n",
       "      <th></th>\n",
       "      <th>x</th>\n",
       "      <th>y</th>\n",
       "      <th>count</th>\n",
       "    </tr>\n",
       "  </thead>\n",
       "  <tbody>\n",
       "    <tr>\n",
       "      <th>0</th>\n",
       "      <td>(126.807, 126.834]</td>\n",
       "      <td>(35.049, 35.078]</td>\n",
       "      <td>0</td>\n",
       "    </tr>\n",
       "    <tr>\n",
       "      <th>1</th>\n",
       "      <td>(126.807, 126.834]</td>\n",
       "      <td>(35.078, 35.104]</td>\n",
       "      <td>0</td>\n",
       "    </tr>\n",
       "    <tr>\n",
       "      <th>2</th>\n",
       "      <td>(126.807, 126.834]</td>\n",
       "      <td>(35.104, 35.13]</td>\n",
       "      <td>0</td>\n",
       "    </tr>\n",
       "    <tr>\n",
       "      <th>3</th>\n",
       "      <td>(126.807, 126.834]</td>\n",
       "      <td>(35.13, 35.157]</td>\n",
       "      <td>0</td>\n",
       "    </tr>\n",
       "    <tr>\n",
       "      <th>4</th>\n",
       "      <td>(126.807, 126.834]</td>\n",
       "      <td>(35.157, 35.183]</td>\n",
       "      <td>0</td>\n",
       "    </tr>\n",
       "    <tr>\n",
       "      <th>...</th>\n",
       "      <td>...</td>\n",
       "      <td>...</td>\n",
       "      <td>...</td>\n",
       "    </tr>\n",
       "    <tr>\n",
       "      <th>9995</th>\n",
       "      <td>(129.231, 129.256]</td>\n",
       "      <td>(37.554, 37.58]</td>\n",
       "      <td>0</td>\n",
       "    </tr>\n",
       "    <tr>\n",
       "      <th>9996</th>\n",
       "      <td>(129.231, 129.256]</td>\n",
       "      <td>(37.58, 37.607]</td>\n",
       "      <td>0</td>\n",
       "    </tr>\n",
       "    <tr>\n",
       "      <th>9997</th>\n",
       "      <td>(129.231, 129.256]</td>\n",
       "      <td>(37.607, 37.633]</td>\n",
       "      <td>0</td>\n",
       "    </tr>\n",
       "    <tr>\n",
       "      <th>9998</th>\n",
       "      <td>(129.231, 129.256]</td>\n",
       "      <td>(37.633, 37.659]</td>\n",
       "      <td>0</td>\n",
       "    </tr>\n",
       "    <tr>\n",
       "      <th>9999</th>\n",
       "      <td>(129.231, 129.256]</td>\n",
       "      <td>(37.659, 37.686]</td>\n",
       "      <td>0</td>\n",
       "    </tr>\n",
       "  </tbody>\n",
       "</table>\n",
       "<p>10000 rows × 3 columns</p>\n",
       "</div>"
      ],
      "text/plain": [
       "                       x                 y  count\n",
       "0     (126.807, 126.834]  (35.049, 35.078]      0\n",
       "1     (126.807, 126.834]  (35.078, 35.104]      0\n",
       "2     (126.807, 126.834]   (35.104, 35.13]      0\n",
       "3     (126.807, 126.834]   (35.13, 35.157]      0\n",
       "4     (126.807, 126.834]  (35.157, 35.183]      0\n",
       "...                  ...               ...    ...\n",
       "9995  (129.231, 129.256]   (37.554, 37.58]      0\n",
       "9996  (129.231, 129.256]   (37.58, 37.607]      0\n",
       "9997  (129.231, 129.256]  (37.607, 37.633]      0\n",
       "9998  (129.231, 129.256]  (37.633, 37.659]      0\n",
       "9999  (129.231, 129.256]  (37.659, 37.686]      0\n",
       "\n",
       "[10000 rows x 3 columns]"
      ]
     },
     "execution_count": 17,
     "metadata": {},
     "output_type": "execute_result"
    }
   ],
   "source": [
    "cop1"
   ]
  },
  {
   "cell_type": "code",
   "execution_count": 19,
   "metadata": {},
   "outputs": [
    {
     "data": {
      "text/html": [
       "<div>\n",
       "<style scoped>\n",
       "    .dataframe tbody tr th:only-of-type {\n",
       "        vertical-align: middle;\n",
       "    }\n",
       "\n",
       "    .dataframe tbody tr th {\n",
       "        vertical-align: top;\n",
       "    }\n",
       "\n",
       "    .dataframe thead th {\n",
       "        text-align: right;\n",
       "    }\n",
       "</style>\n",
       "<table border=\"1\" class=\"dataframe\">\n",
       "  <thead>\n",
       "    <tr style=\"text-align: right;\">\n",
       "      <th></th>\n",
       "      <th>x</th>\n",
       "      <th>y</th>\n",
       "      <th>real</th>\n",
       "    </tr>\n",
       "  </thead>\n",
       "  <tbody>\n",
       "    <tr>\n",
       "      <th>0</th>\n",
       "      <td>(126.807, 126.834]</td>\n",
       "      <td>(35.049, 35.078]</td>\n",
       "      <td>NaN</td>\n",
       "    </tr>\n",
       "    <tr>\n",
       "      <th>1</th>\n",
       "      <td>(126.807, 126.834]</td>\n",
       "      <td>(35.078, 35.104]</td>\n",
       "      <td>NaN</td>\n",
       "    </tr>\n",
       "    <tr>\n",
       "      <th>2</th>\n",
       "      <td>(126.807, 126.834]</td>\n",
       "      <td>(35.104, 35.13]</td>\n",
       "      <td>NaN</td>\n",
       "    </tr>\n",
       "    <tr>\n",
       "      <th>3</th>\n",
       "      <td>(126.807, 126.834]</td>\n",
       "      <td>(35.13, 35.157]</td>\n",
       "      <td>NaN</td>\n",
       "    </tr>\n",
       "    <tr>\n",
       "      <th>4</th>\n",
       "      <td>(126.807, 126.834]</td>\n",
       "      <td>(35.157, 35.183]</td>\n",
       "      <td>NaN</td>\n",
       "    </tr>\n",
       "    <tr>\n",
       "      <th>...</th>\n",
       "      <td>...</td>\n",
       "      <td>...</td>\n",
       "      <td>...</td>\n",
       "    </tr>\n",
       "    <tr>\n",
       "      <th>9995</th>\n",
       "      <td>(129.231, 129.256]</td>\n",
       "      <td>(37.554, 37.58]</td>\n",
       "      <td>NaN</td>\n",
       "    </tr>\n",
       "    <tr>\n",
       "      <th>9996</th>\n",
       "      <td>(129.231, 129.256]</td>\n",
       "      <td>(37.58, 37.607]</td>\n",
       "      <td>NaN</td>\n",
       "    </tr>\n",
       "    <tr>\n",
       "      <th>9997</th>\n",
       "      <td>(129.231, 129.256]</td>\n",
       "      <td>(37.607, 37.633]</td>\n",
       "      <td>NaN</td>\n",
       "    </tr>\n",
       "    <tr>\n",
       "      <th>9998</th>\n",
       "      <td>(129.231, 129.256]</td>\n",
       "      <td>(37.633, 37.659]</td>\n",
       "      <td>NaN</td>\n",
       "    </tr>\n",
       "    <tr>\n",
       "      <th>9999</th>\n",
       "      <td>(129.231, 129.256]</td>\n",
       "      <td>(37.659, 37.686]</td>\n",
       "      <td>NaN</td>\n",
       "    </tr>\n",
       "  </tbody>\n",
       "</table>\n",
       "<p>10000 rows × 3 columns</p>\n",
       "</div>"
      ],
      "text/plain": [
       "                       x                 y  real\n",
       "0     (126.807, 126.834]  (35.049, 35.078]   NaN\n",
       "1     (126.807, 126.834]  (35.078, 35.104]   NaN\n",
       "2     (126.807, 126.834]   (35.104, 35.13]   NaN\n",
       "3     (126.807, 126.834]   (35.13, 35.157]   NaN\n",
       "4     (126.807, 126.834]  (35.157, 35.183]   NaN\n",
       "...                  ...               ...   ...\n",
       "9995  (129.231, 129.256]   (37.554, 37.58]   NaN\n",
       "9996  (129.231, 129.256]   (37.58, 37.607]   NaN\n",
       "9997  (129.231, 129.256]  (37.607, 37.633]   NaN\n",
       "9998  (129.231, 129.256]  (37.633, 37.659]   NaN\n",
       "9999  (129.231, 129.256]  (37.659, 37.686]   NaN\n",
       "\n",
       "[10000 rows x 3 columns]"
      ]
     },
     "execution_count": 19,
     "metadata": {},
     "output_type": "execute_result"
    }
   ],
   "source": [
    "cop2=cop.groupby(['x','y'])['real'].mean().reset_index(name='real')\n",
    "cop2"
   ]
  },
  {
   "cell_type": "code",
   "execution_count": null,
   "metadata": {},
   "outputs": [],
   "source": [
    "cop=train.copy()\n",
    "cop['x']=pd.cut(train['point.x'],100)\n",
    "cop['y']=pd.cut(train['point.y'],100)\n",
    "cop1=cop.groupby(['x','y']).size().reset_index(name='count')\n",
    "cop2=cop.groupby(['x','y'])['real'].mean().reset_index(name='real')\n",
    "cop=pd.merge(cop1,cop2,on=['x','y'],how='left')"
   ]
  },
  {
   "cell_type": "code",
   "execution_count": 12,
   "metadata": {},
   "outputs": [
    {
     "ename": "SyntaxError",
     "evalue": "invalid syntax (<ipython-input-12-82d35e533b0a>, line 8)",
     "output_type": "error",
     "traceback": [
      "\u001b[1;36m  File \u001b[1;32m\"<ipython-input-12-82d35e533b0a>\"\u001b[1;36m, line \u001b[1;32m8\u001b[0m\n\u001b[1;33m    cop=cop.loc[cop['count']&gt;=9]\u001b[0m\n\u001b[1;37m                               ^\u001b[0m\n\u001b[1;31mSyntaxError\u001b[0m\u001b[1;31m:\u001b[0m invalid syntax\n"
     ]
    }
   ],
   "source": [
    "\n",
    "\n",
    "cop=cop.loc[cop['count']&gt;=9]\n",
    "area = cop.pivot(\"y\", \"x\", \"real\")\n",
    "plt.subplots(1, 1, figsize=(7, 5))\n",
    "plt.title(\"real by area\")\n",
    "sns.heatmap(area, annot=False, xticklabels=False,yticklabels=False,cmap=\"Blues\")\n",
    "plt.show()"
   ]
  },
  {
   "cell_type": "code",
   "execution_count": null,
   "metadata": {},
   "outputs": [],
   "source": []
  }
 ],
 "metadata": {
  "kernelspec": {
   "display_name": "Python 3",
   "language": "python",
   "name": "python3"
  },
  "language_info": {
   "codemirror_mode": {
    "name": "ipython",
    "version": 3
   },
   "file_extension": ".py",
   "mimetype": "text/x-python",
   "name": "python",
   "nbconvert_exporter": "python",
   "pygments_lexer": "ipython3",
   "version": "3.7.6"
  }
 },
 "nbformat": 4,
 "nbformat_minor": 4
}
