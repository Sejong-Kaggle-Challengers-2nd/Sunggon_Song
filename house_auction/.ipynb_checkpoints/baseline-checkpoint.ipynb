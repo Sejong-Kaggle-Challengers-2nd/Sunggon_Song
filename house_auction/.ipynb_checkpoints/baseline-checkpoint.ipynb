{
 "cells": [
  {
   "cell_type": "markdown",
   "metadata": {},
   "source": [
    "# 아파트 경매가격 예측 경진대회\n",
    "- <a href=\"https://dacon.io/competitions/official/17801/data/\">대회 링크</a>"
   ]
  },
  {
   "cell_type": "markdown",
   "metadata": {},
   "source": [
    "train 날짜 표시가 ㅂ ㅜㄹ가능한 경우 1111"
   ]
  },
  {
   "cell_type": "code",
   "execution_count": 57,
   "metadata": {},
   "outputs": [],
   "source": [
    "import pandas as pd\n",
    "import numpy as np\n",
    "import seaborn as sns\n",
    "import matplotlib.pyplot as plt\n",
    "import warnings\n",
    "warnings.filterwarnings('ignore')\n",
    "import os"
   ]
  },
  {
   "cell_type": "code",
   "execution_count": 4,
   "metadata": {},
   "outputs": [
    {
     "data": {
      "text/plain": [
       "['Auction_master_en',\n",
       " 'Auction_master_kr',\n",
       " 'Auction_master_test.csv',\n",
       " 'Auction_master_train.csv',\n",
       " 'Auction_regist.csv',\n",
       " 'Auction_rent.csv',\n",
       " 'Auction_result.csv',\n",
       " 'Auction_submission.csv']"
      ]
     },
     "execution_count": 4,
     "metadata": {},
     "output_type": "execute_result"
    }
   ],
   "source": [
    "d = 'C:/kaggle_data/house_price/'\n",
    "os.listdir(d)"
   ]
  },
  {
   "cell_type": "markdown",
   "metadata": {},
   "source": [
    "# 파일 설명\n",
    "1. Auction_master_train.csv – 서울/부산 지역의 낙찰가를 포함하여 경매 물건 아파트의 위치, 감정가, 경매 개시/종결일 등의 기본 정보(*최근2년)\n",
    "\n",
    "2. Auction_master_test.csv – 경매 낙찰가를 제외하고 train.csv와 동일\n",
    "\n",
    "3. Auction_submission.csv – 예측한 낙찰가를 기입하여 제출\n",
    "\n",
    "4. Auctiuon_regist.csv – 아파트에 대한 등기 정보\n",
    "\n",
    "5. Auctiuon_result.csv – 경매일자, 감정가, 최저매각가격, 경매 결과 데이터.\n",
    "\n",
    "6. Auctiuon_rent.csv – 해당 아파트에 임차인이 있는 경우, 전입/점유 여부, 보증금, 월세 등의 데이터.\n",
    "\n",
    "### auction_regist\n",
    "*개별 경매: 1개의 사건 번호에 여러 물건으로 경매 진행될 경우\n",
    "\n",
    "\n",
    "*과다등기: 등기명의인 수가 100인(말소등기포함)을 초과하는 경우\n",
    "\n",
    "\n",
    "*개별 경매 중 다음과 같은 사항이 발생 시, 등기 정보가 누락될 수 있습니다.\n",
    "\n",
    "\n",
    "a.모든 물건의 등기부등본이 동일한 경우(1개만 발급받은 경우)\n",
    "\n",
    "b. 과다등기로 인한 등기부등본 발급이 어려운 경우 (예: 등기부등본에 채권자, 소유주 등 등재인이 너무 많아 등기부등본 발급이 안되는 경우)"
   ]
  },
  {
   "cell_type": "code",
   "execution_count": 58,
   "metadata": {},
   "outputs": [],
   "source": [
    "train = pd.read_csv(d+'Auction_master_train.csv')\n",
    "test = pd.read_csv(d+'Auction_master_test.csv')\n",
    "regist = pd.read_csv(d+'Auction_regist.csv')\n",
    "rent = pd.read_csv(d+'Auction_rent.csv')\n",
    "result = pd.read_csv(d+'Auction_result.csv')\n",
    "ss = pd.read_csv(d+'Auction_submission.csv')"
   ]
  },
  {
   "cell_type": "markdown",
   "metadata": {},
   "source": [
    "# EDA\n",
    "## train\n",
    "- auction_key: 아파트 고유 키값\n",
    "- auction_class\n",
    "       1. 임의: 등기부등본 담보권(저당권, 가압류등)으로 경매\n",
    "       2. 강제: 부동산에 대한 강제집행 방법의 하나로서 법원에서 채무자의 부동산을 압류·매각하여 그 대금으로 채권자의 금전채권의 만족에 충당시키는 절차\n",
    "- Bid_class: 입찰 구분(일반/개별/일괄)\n",
    "- Claim_price: 경매 신청인의 청구 금액\n",
    "- Appraisal_company: 감정사\n",
    "- Appraisal_date: 감정일\n",
    "- Auction_count: 총경매횟수\n",
    "- Auction_miscarriage_count: 총유찰횟수\n",
    "- Total_land_gross_area: 총토지전체면적\n",
    "- Total_land_real_area: 총토지실면적\n",
    "- Total_land_auction_area: 총토지경매면적\n",
    "- Total_building_area: 총건물면적\n",
    "- Total_building_auction_area: 총건물경매면적\n",
    "- Total_appraisal_price: 총감정가\n",
    "- Minimum_sales_price: 최저매각가격, 입찰인이 최저로 제시해야 하는 금액\n",
    "- First_auction_date: 최초경매일\n",
    "- Final_auction_date: 최종경매일\n",
    "- Final_result: 최종결과\n",
    "- Creditor: 경매 신청인\n",
    "- addr\n",
    "    - do: 시도\n",
    "    - si: 시군구\n",
    "    - dong: 읍면동\n",
    "    - li: 리\n",
    "    - san: 산번지 여부\n",
    "    - bunji1: 번지1\n",
    "    - bunji2: 번지2\n",
    "    - etc: 기타주소\n",
    "- Apartment_usage: 건물(토지) 대표 용도\n",
    "- Completion_date: 준공일\n",
    "- Preserve_regist_date: 보존등기일, 신축하고 처음으로 등기한 일자\n",
    "- Total_floor: 총층수\n",
    "- Current_floor: 현재층수\n",
    "- Specific: 기타 특이사항\n",
    "- Share_auction_YorN: 지분경매여부(소유자가 전체가 아닌 지분을 소유하고 있는 경우)\n",
    "- road\n",
    "    - name: 도로명주소\n",
    "    - bunji1: 번지1\n",
    "    - bunji2: 번지2\n",
    "- close_date: 종국일자\n",
    "- close_result: 종국결과\n",
    "- point.y : 위도\n",
    "- point.x : 경도\n",
    "- hammer_price: 낙찰가"
   ]
  },
  {
   "cell_type": "code",
   "execution_count": 59,
   "metadata": {},
   "outputs": [
    {
     "data": {
      "text/plain": [
       "<matplotlib.axes._subplots.AxesSubplot at 0x2a8ad423b08>"
      ]
     },
     "execution_count": 59,
     "metadata": {},
     "output_type": "execute_result"
    },
    {
     "data": {
      "image/png": "[encoded data removed]",
      "text/plain": [
       "<Figure size 864x576 with 2 Axes>"
      ]
     },
     "metadata": {
      "needs_background": "light"
     },
     "output_type": "display_data"
    }
   ],
   "source": [
    "fig,ax = plt.subplots(nrows=1,ncols=2,figsize=(12,8))\n",
    "sns.distplot(train['Hammer_price'],ax=ax[0])\n",
    "sns.distplot(np.log1p(train['Hammer_price']),ax=ax[1])"
   ]
  },
  {
   "cell_type": "markdown",
   "metadata": {},
   "source": [
    "## result, regist의 의미\n",
    "- regist: 아파트에 대한 등기 정보\n",
    "    - Creditor:\n",
    "- result: 경매일자, 감정가, 최저매각가격, 경매 결과 데이터\n",
    "    - result에는 같은 Auction_key가 여러개 존재한다\n",
    "- "
   ]
  },
  {
   "cell_type": "code",
   "execution_count": 60,
   "metadata": {
    "scrolled": true
   },
   "outputs": [
    {
     "data": {
      "text/html": [
       "<div>\n",
       "<style scoped>\n",
       "    .dataframe tbody tr th:only-of-type {\n",
       "        vertical-align: middle;\n",
       "    }\n",
       "\n",
       "    .dataframe tbody tr th {\n",
       "        vertical-align: top;\n",
       "    }\n",
       "\n",
       "    .dataframe thead th {\n",
       "        text-align: right;\n",
       "    }\n",
       "</style>\n",
       "<table border=\"1\" class=\"dataframe\">\n",
       "  <thead>\n",
       "    <tr style=\"text-align: right;\">\n",
       "      <th></th>\n",
       "      <th>Auction_key</th>\n",
       "      <th>Auction_class</th>\n",
       "      <th>Bid_class</th>\n",
       "      <th>Claim_price</th>\n",
       "      <th>Appraisal_company</th>\n",
       "      <th>Appraisal_date</th>\n",
       "      <th>Auction_count</th>\n",
       "      <th>Auction_miscarriage_count</th>\n",
       "      <th>Total_land_gross_area</th>\n",
       "      <th>Total_land_real_area</th>\n",
       "      <th>...</th>\n",
       "      <th>Specific</th>\n",
       "      <th>Share_auction_YorN</th>\n",
       "      <th>road_name</th>\n",
       "      <th>road_bunji1</th>\n",
       "      <th>road_bunji2</th>\n",
       "      <th>Close_date</th>\n",
       "      <th>Close_result</th>\n",
       "      <th>point.y</th>\n",
       "      <th>point.x</th>\n",
       "      <th>Hammer_price</th>\n",
       "    </tr>\n",
       "  </thead>\n",
       "  <tbody>\n",
       "    <tr>\n",
       "      <th>0</th>\n",
       "      <td>2687</td>\n",
       "      <td>임의</td>\n",
       "      <td>개별</td>\n",
       "      <td>1766037301</td>\n",
       "      <td>정명감정</td>\n",
       "      <td>2017-07-26 00:00:00</td>\n",
       "      <td>2</td>\n",
       "      <td>1</td>\n",
       "      <td>12592.0</td>\n",
       "      <td>37.35</td>\n",
       "      <td>...</td>\n",
       "      <td>NaN</td>\n",
       "      <td>N</td>\n",
       "      <td>해운대해변로</td>\n",
       "      <td>30.0</td>\n",
       "      <td>NaN</td>\n",
       "      <td>2018-06-14 00:00:00</td>\n",
       "      <td>배당</td>\n",
       "      <td>35.162717</td>\n",
       "      <td>129.137048</td>\n",
       "      <td>760000000</td>\n",
       "    </tr>\n",
       "    <tr>\n",
       "      <th>1</th>\n",
       "      <td>2577</td>\n",
       "      <td>임의</td>\n",
       "      <td>일반</td>\n",
       "      <td>152946867</td>\n",
       "      <td>희감정</td>\n",
       "      <td>2016-09-12 00:00:00</td>\n",
       "      <td>2</td>\n",
       "      <td>1</td>\n",
       "      <td>42478.1</td>\n",
       "      <td>18.76</td>\n",
       "      <td>...</td>\n",
       "      <td>NaN</td>\n",
       "      <td>N</td>\n",
       "      <td>마린시티2로</td>\n",
       "      <td>33.0</td>\n",
       "      <td>NaN</td>\n",
       "      <td>2017-03-30 00:00:00</td>\n",
       "      <td>배당</td>\n",
       "      <td>35.156633</td>\n",
       "      <td>129.145068</td>\n",
       "      <td>971889999</td>\n",
       "    </tr>\n",
       "    <tr>\n",
       "      <th>2</th>\n",
       "      <td>2197</td>\n",
       "      <td>임의</td>\n",
       "      <td>개별</td>\n",
       "      <td>11326510</td>\n",
       "      <td>혜림감정</td>\n",
       "      <td>2016-11-22 00:00:00</td>\n",
       "      <td>3</td>\n",
       "      <td>2</td>\n",
       "      <td>149683.1</td>\n",
       "      <td>71.00</td>\n",
       "      <td>...</td>\n",
       "      <td>NaN</td>\n",
       "      <td>N</td>\n",
       "      <td>모라로110번길</td>\n",
       "      <td>88.0</td>\n",
       "      <td>NaN</td>\n",
       "      <td>2017-12-13 00:00:00</td>\n",
       "      <td>배당</td>\n",
       "      <td>35.184601</td>\n",
       "      <td>128.996765</td>\n",
       "      <td>93399999</td>\n",
       "    </tr>\n",
       "    <tr>\n",
       "      <th>3</th>\n",
       "      <td>2642</td>\n",
       "      <td>임의</td>\n",
       "      <td>일반</td>\n",
       "      <td>183581724</td>\n",
       "      <td>신라감정</td>\n",
       "      <td>2016-12-13 00:00:00</td>\n",
       "      <td>2</td>\n",
       "      <td>1</td>\n",
       "      <td>24405.0</td>\n",
       "      <td>32.98</td>\n",
       "      <td>...</td>\n",
       "      <td>NaN</td>\n",
       "      <td>N</td>\n",
       "      <td>황령대로319번가길</td>\n",
       "      <td>110.0</td>\n",
       "      <td>NaN</td>\n",
       "      <td>2017-12-27 00:00:00</td>\n",
       "      <td>배당</td>\n",
       "      <td>35.154180</td>\n",
       "      <td>129.089081</td>\n",
       "      <td>256899000</td>\n",
       "    </tr>\n",
       "    <tr>\n",
       "      <th>4</th>\n",
       "      <td>1958</td>\n",
       "      <td>강제</td>\n",
       "      <td>일반</td>\n",
       "      <td>45887671</td>\n",
       "      <td>나라감정</td>\n",
       "      <td>2016-03-07 00:00:00</td>\n",
       "      <td>2</td>\n",
       "      <td>1</td>\n",
       "      <td>774.0</td>\n",
       "      <td>45.18</td>\n",
       "      <td>...</td>\n",
       "      <td>NaN</td>\n",
       "      <td>N</td>\n",
       "      <td>오작로</td>\n",
       "      <td>51.0</td>\n",
       "      <td>NaN</td>\n",
       "      <td>2016-10-04 00:00:00</td>\n",
       "      <td>배당</td>\n",
       "      <td>35.099630</td>\n",
       "      <td>128.998874</td>\n",
       "      <td>158660000</td>\n",
       "    </tr>\n",
       "  </tbody>\n",
       "</table>\n",
       "<p>5 rows × 41 columns</p>\n",
       "</div>"
      ],
      "text/plain": [
       "   Auction_key Auction_class Bid_class  Claim_price Appraisal_company  \\\n",
       "0         2687            임의        개별   1766037301              정명감정   \n",
       "1         2577            임의        일반    152946867               희감정   \n",
       "2         2197            임의        개별     11326510              혜림감정   \n",
       "3         2642            임의        일반    183581724              신라감정   \n",
       "4         1958            강제        일반     45887671              나라감정   \n",
       "\n",
       "        Appraisal_date  Auction_count  Auction_miscarriage_count  \\\n",
       "0  2017-07-26 00:00:00              2                          1   \n",
       "1  2016-09-12 00:00:00              2                          1   \n",
       "2  2016-11-22 00:00:00              3                          2   \n",
       "3  2016-12-13 00:00:00              2                          1   \n",
       "4  2016-03-07 00:00:00              2                          1   \n",
       "\n",
       "   Total_land_gross_area  Total_land_real_area  ...  Specific  \\\n",
       "0                12592.0                 37.35  ...       NaN   \n",
       "1                42478.1                 18.76  ...       NaN   \n",
       "2               149683.1                 71.00  ...       NaN   \n",
       "3                24405.0                 32.98  ...       NaN   \n",
       "4                  774.0                 45.18  ...       NaN   \n",
       "\n",
       "   Share_auction_YorN   road_name  road_bunji1  road_bunji2  \\\n",
       "0                   N      해운대해변로         30.0          NaN   \n",
       "1                   N      마린시티2로         33.0          NaN   \n",
       "2                   N    모라로110번길         88.0          NaN   \n",
       "3                   N  황령대로319번가길        110.0          NaN   \n",
       "4                   N         오작로         51.0          NaN   \n",
       "\n",
       "            Close_date Close_result    point.y     point.x Hammer_price  \n",
       "0  2018-06-14 00:00:00           배당  35.162717  129.137048    760000000  \n",
       "1  2017-03-30 00:00:00           배당  35.156633  129.145068    971889999  \n",
       "2  2017-12-13 00:00:00           배당  35.184601  128.996765     93399999  \n",
       "3  2017-12-27 00:00:00           배당  35.154180  129.089081    256899000  \n",
       "4  2016-10-04 00:00:00           배당  35.099630  128.998874    158660000  \n",
       "\n",
       "[5 rows x 41 columns]"
      ]
     },
     "execution_count": 60,
     "metadata": {},
     "output_type": "execute_result"
    }
   ],
   "source": [
    "train.head()"
   ]
  },
  {
   "cell_type": "code",
   "execution_count": 39,
   "metadata": {
    "scrolled": false
   },
   "outputs": [
    {
     "name": "stdout",
     "output_type": "stream",
     "text": [
      "<class 'pandas.core.frame.DataFrame'>\n",
      "RangeIndex: 20702 entries, 0 to 20701\n",
      "Data columns (total 7 columns):\n",
      " #   Column        Non-Null Count  Dtype \n",
      "---  ------        --------------  ----- \n",
      " 0   Auction_key   20702 non-null  int64 \n",
      " 1   Auction_seq   20702 non-null  int64 \n",
      " 2   Regist_type   20702 non-null  object\n",
      " 3   Regist_class  20702 non-null  object\n",
      " 4   Regist_date   20702 non-null  int64 \n",
      " 5   Creditor      20702 non-null  object\n",
      " 6   Regist_price  20702 non-null  int64 \n",
      "dtypes: int64(4), object(3)\n",
      "memory usage: 1.1+ MB\n"
     ]
    }
   ],
   "source": [
    "regist.info()"
   ]
  },
  {
   "cell_type": "code",
   "execution_count": 37,
   "metadata": {
    "scrolled": true
   },
   "outputs": [
    {
     "data": {
      "text/html": [
       "<div>\n",
       "<style scoped>\n",
       "    .dataframe tbody tr th:only-of-type {\n",
       "        vertical-align: middle;\n",
       "    }\n",
       "\n",
       "    .dataframe tbody tr th {\n",
       "        vertical-align: top;\n",
       "    }\n",
       "\n",
       "    .dataframe thead th {\n",
       "        text-align: right;\n",
       "    }\n",
       "</style>\n",
       "<table border=\"1\" class=\"dataframe\">\n",
       "  <thead>\n",
       "    <tr style=\"text-align: right;\">\n",
       "      <th></th>\n",
       "      <th>Auction_key</th>\n",
       "      <th>Auction_seq</th>\n",
       "      <th>Regist_type</th>\n",
       "      <th>Regist_class</th>\n",
       "      <th>Regist_date</th>\n",
       "      <th>Creditor</th>\n",
       "      <th>Regist_price</th>\n",
       "    </tr>\n",
       "  </thead>\n",
       "  <tbody>\n",
       "    <tr>\n",
       "      <th>0</th>\n",
       "      <td>1</td>\n",
       "      <td>10001</td>\n",
       "      <td>집합건물등기</td>\n",
       "      <td>소유이전</td>\n",
       "      <td>20050715</td>\n",
       "      <td>Private</td>\n",
       "      <td>0</td>\n",
       "    </tr>\n",
       "    <tr>\n",
       "      <th>1</th>\n",
       "      <td>1</td>\n",
       "      <td>10002</td>\n",
       "      <td>집합건물등기</td>\n",
       "      <td>가압</td>\n",
       "      <td>20050914</td>\n",
       "      <td>푸른이상호저축은행</td>\n",
       "      <td>860547945</td>\n",
       "    </tr>\n",
       "    <tr>\n",
       "      <th>2</th>\n",
       "      <td>1</td>\n",
       "      <td>10003</td>\n",
       "      <td>집합건물등기</td>\n",
       "      <td>가압</td>\n",
       "      <td>20051229</td>\n",
       "      <td>Private</td>\n",
       "      <td>189800000</td>\n",
       "    </tr>\n",
       "    <tr>\n",
       "      <th>3</th>\n",
       "      <td>1</td>\n",
       "      <td>10004</td>\n",
       "      <td>집합건물등기</td>\n",
       "      <td>가압</td>\n",
       "      <td>20060428</td>\n",
       "      <td>Private</td>\n",
       "      <td>1346000000</td>\n",
       "    </tr>\n",
       "    <tr>\n",
       "      <th>4</th>\n",
       "      <td>1</td>\n",
       "      <td>10005</td>\n",
       "      <td>집합건물등기</td>\n",
       "      <td>가처분</td>\n",
       "      <td>20070410</td>\n",
       "      <td>Private</td>\n",
       "      <td>0</td>\n",
       "    </tr>\n",
       "  </tbody>\n",
       "</table>\n",
       "</div>"
      ],
      "text/plain": [
       "   Auction_key  Auction_seq Regist_type Regist_class  Regist_date   Creditor  \\\n",
       "0            1        10001      집합건물등기         소유이전     20050715    Private   \n",
       "1            1        10002      집합건물등기       가압         20050914  푸른이상호저축은행   \n",
       "2            1        10003      집합건물등기       가압         20051229    Private   \n",
       "3            1        10004      집합건물등기       가압         20060428    Private   \n",
       "4            1        10005      집합건물등기        가처분       20070410    Private   \n",
       "\n",
       "   Regist_price  \n",
       "0             0  \n",
       "1     860547945  \n",
       "2     189800000  \n",
       "3    1346000000  \n",
       "4             0  "
      ]
     },
     "execution_count": 37,
     "metadata": {},
     "output_type": "execute_result"
    }
   ],
   "source": [
    "regist.head()"
   ]
  },
  {
   "cell_type": "code",
   "execution_count": 43,
   "metadata": {},
   "outputs": [
    {
     "data": {
      "text/plain": [
       "array(['Private', '푸른이상호저축은행', '와이케이정보통신', ..., '주식회사승일', 'BNK캐피탈',\n",
       "       '한마음맥'], dtype=object)"
      ]
     },
     "execution_count": 43,
     "metadata": {},
     "output_type": "execute_result"
    }
   ],
   "source": [
    "regist['Creditor'].unique()"
   ]
  },
  {
   "cell_type": "code",
   "execution_count": 49,
   "metadata": {},
   "outputs": [],
   "source": [
    "regist['private'] = (regist['Creditor']=='Private').astype('int')"
   ]
  },
  {
   "cell_type": "code",
   "execution_count": 54,
   "metadata": {},
   "outputs": [],
   "source": [
    "import numpy\n",
    "regist['log_price'] = np.log1p(regist['Regist_price'])"
   ]
  },
  {
   "cell_type": "code",
   "execution_count": 55,
   "metadata": {},
   "outputs": [
    {
     "data": {
      "text/plain": [
       "<matplotlib.axes._subplots.AxesSubplot at 0x2a8b28b0748>"
      ]
     },
     "execution_count": 55,
     "metadata": {},
     "output_type": "execute_result"
    },
    {
     "data": {
      "image/png": "[encoded data removed]",
      "text/plain": [
       "<Figure size 432x288 with 1 Axes>"
      ]
     },
     "metadata": {
      "needs_background": "light"
     },
     "output_type": "display_data"
    }
   ],
   "source": [
    "import seaborn as sns\n",
    "sns.boxplot(y='log_price', x = 'private',data=regist)"
   ]
  },
  {
   "cell_type": "code",
   "execution_count": 45,
   "metadata": {},
   "outputs": [
    {
     "ename": "SyntaxError",
     "evalue": "lambda cannot contain assignment (<ipython-input-45-48a3c75dab29>, line 1)",
     "output_type": "error",
     "traceback": [
      "\u001b[1;36m  File \u001b[1;32m\"<ipython-input-45-48a3c75dab29>\"\u001b[1;36m, line \u001b[1;32m1\u001b[0m\n\u001b[1;33m    regist['Creditor'].apply(lambda x: x = int(tregist['Creditor']=='Private'))\u001b[0m\n\u001b[1;37m                            ^\u001b[0m\n\u001b[1;31mSyntaxError\u001b[0m\u001b[1;31m:\u001b[0m lambda cannot contain assignment\n"
     ]
    }
   ],
   "source": [
    "regist['Creditor'].apply(lambda x: int(tregist['Creditor']=='Private'))"
   ]
  },
  {
   "cell_type": "code",
   "execution_count": 48,
   "metadata": {},
   "outputs": [
    {
     "data": {
      "text/plain": [
       "0        1\n",
       "1        0\n",
       "2        1\n",
       "3        1\n",
       "4        1\n",
       "        ..\n",
       "20697    0\n",
       "20698    0\n",
       "20699    0\n",
       "20700    0\n",
       "20701    0\n",
       "Name: Creditor, Length: 20702, dtype: int32"
      ]
     },
     "execution_count": 48,
     "metadata": {},
     "output_type": "execute_result"
    }
   ],
   "source": [
    "regist['private'] = (regist['Creditor']=='Private').astype('int')"
   ]
  },
  {
   "cell_type": "code",
   "execution_count": 31,
   "metadata": {},
   "outputs": [
    {
     "data": {
      "text/plain": [
       "2762"
      ]
     },
     "execution_count": 31,
     "metadata": {},
     "output_type": "execute_result"
    }
   ],
   "source": [
    "len(train) + len(test)"
   ]
  },
  {
   "cell_type": "code",
   "execution_count": 27,
   "metadata": {
    "scrolled": true
   },
   "outputs": [
    {
     "data": {
      "text/plain": [
       "2762"
      ]
     },
     "execution_count": 27,
     "metadata": {},
     "output_type": "execute_result"
    }
   ],
   "source": [
    "len(train.Auction_key.unique()) + len(test.Auction_key.unique())"
   ]
  },
  {
   "cell_type": "code",
   "execution_count": 23,
   "metadata": {},
   "outputs": [
    {
     "data": {
      "text/plain": [
       "829"
      ]
     },
     "execution_count": 23,
     "metadata": {},
     "output_type": "execute_result"
    }
   ],
   "source": [
    "len(test.Auction_key.unique())"
   ]
  },
  {
   "cell_type": "code",
   "execution_count": 28,
   "metadata": {},
   "outputs": [
    {
     "data": {
      "text/plain": [
       "2762"
      ]
     },
     "execution_count": 28,
     "metadata": {},
     "output_type": "execute_result"
    }
   ],
   "source": [
    "len(result.Auction_key.unique())"
   ]
  },
  {
   "cell_type": "code",
   "execution_count": 38,
   "metadata": {
    "scrolled": false
   },
   "outputs": [
    {
     "data": {
      "text/html": [
       "<div>\n",
       "<style scoped>\n",
       "    .dataframe tbody tr th:only-of-type {\n",
       "        vertical-align: middle;\n",
       "    }\n",
       "\n",
       "    .dataframe tbody tr th {\n",
       "        vertical-align: top;\n",
       "    }\n",
       "\n",
       "    .dataframe thead th {\n",
       "        text-align: right;\n",
       "    }\n",
       "</style>\n",
       "<table border=\"1\" class=\"dataframe\">\n",
       "  <thead>\n",
       "    <tr style=\"text-align: right;\">\n",
       "      <th></th>\n",
       "      <th>Auction_key</th>\n",
       "      <th>Auction_seq</th>\n",
       "      <th>Auction_date</th>\n",
       "      <th>Appraisal_price</th>\n",
       "      <th>Minimum_sales_price</th>\n",
       "      <th>Auction_results</th>\n",
       "    </tr>\n",
       "  </thead>\n",
       "  <tbody>\n",
       "    <tr>\n",
       "      <th>0</th>\n",
       "      <td>1</td>\n",
       "      <td>1</td>\n",
       "      <td>2011-06-21 00:00:00</td>\n",
       "      <td>313000000</td>\n",
       "      <td>313000000</td>\n",
       "      <td>변경</td>\n",
       "    </tr>\n",
       "    <tr>\n",
       "      <th>1</th>\n",
       "      <td>1</td>\n",
       "      <td>2</td>\n",
       "      <td>2011-12-13 00:00:00</td>\n",
       "      <td>313000000</td>\n",
       "      <td>313000000</td>\n",
       "      <td>변경</td>\n",
       "    </tr>\n",
       "    <tr>\n",
       "      <th>2</th>\n",
       "      <td>1</td>\n",
       "      <td>3</td>\n",
       "      <td>2016-05-17 00:00:00</td>\n",
       "      <td>298000000</td>\n",
       "      <td>298000000</td>\n",
       "      <td>유찰</td>\n",
       "    </tr>\n",
       "    <tr>\n",
       "      <th>3</th>\n",
       "      <td>1</td>\n",
       "      <td>4</td>\n",
       "      <td>2016-06-21 00:00:00</td>\n",
       "      <td>298000000</td>\n",
       "      <td>238400000</td>\n",
       "      <td>유찰</td>\n",
       "    </tr>\n",
       "    <tr>\n",
       "      <th>4</th>\n",
       "      <td>1</td>\n",
       "      <td>5</td>\n",
       "      <td>2016-07-26 00:00:00</td>\n",
       "      <td>298000000</td>\n",
       "      <td>190720000</td>\n",
       "      <td>유찰</td>\n",
       "    </tr>\n",
       "  </tbody>\n",
       "</table>\n",
       "</div>"
      ],
      "text/plain": [
       "   Auction_key  Auction_seq         Auction_date  Appraisal_price  \\\n",
       "0            1            1  2011-06-21 00:00:00        313000000   \n",
       "1            1            2  2011-12-13 00:00:00        313000000   \n",
       "2            1            3  2016-05-17 00:00:00        298000000   \n",
       "3            1            4  2016-06-21 00:00:00        298000000   \n",
       "4            1            5  2016-07-26 00:00:00        298000000   \n",
       "\n",
       "   Minimum_sales_price Auction_results  \n",
       "0            313000000              변경  \n",
       "1            313000000              변경  \n",
       "2            298000000              유찰  \n",
       "3            238400000              유찰  \n",
       "4            190720000              유찰  "
      ]
     },
     "execution_count": 38,
     "metadata": {},
     "output_type": "execute_result"
    }
   ],
   "source": [
    "result.head()"
   ]
  },
  {
   "cell_type": "code",
   "execution_count": 34,
   "metadata": {},
   "outputs": [
    {
     "data": {
      "text/plain": [
       "array(['변경', '유찰', '낙찰', '배당', '대납'], dtype=object)"
      ]
     },
     "execution_count": 34,
     "metadata": {},
     "output_type": "execute_result"
    }
   ],
   "source": [
    "result.Auction_results.unique()"
   ]
  }
 ],
 "metadata": {
  "kernelspec": {
   "display_name": "Python 3",
   "language": "python",
   "name": "python3"
  },
  "language_info": {
   "codemirror_mode": {
    "name": "ipython",
    "version": 3
   },
   "file_extension": ".py",
   "mimetype": "text/x-python",
   "name": "python",
   "nbconvert_exporter": "python",
   "pygments_lexer": "ipython3",
   "version": "3.7.6"
  }
 },
 "nbformat": 4,
 "nbformat_minor": 4
}
