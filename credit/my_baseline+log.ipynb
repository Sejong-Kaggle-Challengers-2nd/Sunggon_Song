{
 "cells": [
  {
   "cell_type": "markdown",
   "metadata": {},
   "source": [
    "<a href=\"https://dacon.io/competitions/official/136/overview/description/\">대회링크</a>\n",
    "\n",
    "# 대출 상점 총 매출 예측 경진대회\n",
    "\n",
    "한국의 약 2,000개 상점의 신용카드 거래 내역이 제공됩니다. card_id를 기준으로 샘플링되었으며, amount의 단위는 KRW가 아닙니다. 테스트 파일에서 각 상점의 마지막 매출 발생일 다음 날부터 100일 후까지 매출의 총합을 예측해야 합니다.\n",
    "\n",
    " \n",
    "\n",
    "예측한 금액만큼 100일간 대출을 진행합니다. 만약 예측한 금액보다 실제 매출이 적게 발생한다면 원금에 손실을 보게 됩니다. 실제 매출이 예측한 금액 이상으로 발생한다면, 연이율 13%의 이자가 발생합니다.\n",
    "\n",
    "\n",
    "\n",
    "[Data]\n",
    "\n",
    "train.csv - 카드 매출 내역, 2016-08-01부터 2018-07-31까지.\n",
    "\n",
    "\n",
    "test.csv - train.csv랑 같은 형식. test.csv랑 train.csv의 store_id가 같아도 같은 상점인 것은 아님.\n",
    "\n",
    "(월에 최소 5일 이상 데이터가 있는 상점만을 문제에 포함.)\n",
    "\n",
    "- store_id : 각 파일에서의 상점 고유 번호 (해당기한 내 개업 혹은 폐업한 상점도 있음)\n",
    "\n",
    "- date: 거래 일자\n",
    "- time : 거래 시간\n",
    "- card_id : 카드 번호의 hash 값\n",
    "- amount : 매출 금액, 음수인 경우 취소 거래\n",
    "- installments : 할부 개월 수. 일시불은 빈 문자열\n",
    "- days_of_week : 요일, 월요일이 0, 일요일은 6\n",
    "- holiday: 1이면 공휴일, 0이면 공휴일 아님\n",
    "\n",
    "\n",
    "submission.csv – store_id와 total_sales 두 개의 열로 구성. store_id는 test.csv의 store_id와 대응."
   ]
  },
  {
   "cell_type": "markdown",
   "metadata": {},
   "source": [
    "# 접근방법\n",
    "\n",
    "1. 가게마다 주 단위로 자른다\n",
    "2. 주단위로 다음 주의 값을 예측한다"
   ]
  },
  {
   "cell_type": "code",
   "execution_count": 51,
   "metadata": {},
   "outputs": [],
   "source": [
    "import pandas as pd\n",
    "import missingno as msno\n",
    "import numpy as np\n",
    "import matplotlib.pyplot as plt\n",
    "import seaborn as sns\n",
    "import warnings\n",
    "warnings.filterwarnings('ignore')\n",
    "from datetime import timedelta\n",
    "import math"
   ]
  },
  {
   "cell_type": "code",
   "execution_count": 30,
   "metadata": {},
   "outputs": [],
   "source": [
    "train = pd.read_csv('C:\\kaggle_data/credit/train.csv')\n",
    "test = pd.read_csv('C:\\kaggle_data/credit/test.csv')\n",
    "ss = pd.read_csv('C:\\kaggle_data/credit/submission.csv')"
   ]
  },
  {
   "cell_type": "code",
   "execution_count": 31,
   "metadata": {
    "scrolled": false
   },
   "outputs": [],
   "source": [
    "train['amount'] = np.log(train['amount'])\n",
    "train['amount'] = train['amount'].replace([np.inf, -np.inf], np.nan)"
   ]
  },
  {
   "cell_type": "code",
   "execution_count": 32,
   "metadata": {},
   "outputs": [],
   "source": [
    "test['amount'] = np.log(test['amount'])\n",
    "test['amount'] = test['amount'].replace([np.inf, -np.inf], np.nan)"
   ]
  },
  {
   "cell_type": "markdown",
   "metadata": {},
   "source": [
    "# date는 datetime객체로 바꿔주자\n"
   ]
  },
  {
   "cell_type": "code",
   "execution_count": 33,
   "metadata": {},
   "outputs": [],
   "source": [
    "def date_idx(df):\n",
    "    df['date_idx'] = pd.DatetimeIndex(df['date'])\n",
    "    df = df.set_index('date_idx')\n",
    "    return df"
   ]
  },
  {
   "cell_type": "code",
   "execution_count": 34,
   "metadata": {},
   "outputs": [],
   "source": [
    "train = date_idx(train)\n",
    "test = date_idx(test)"
   ]
  },
  {
   "cell_type": "code",
   "execution_count": 35,
   "metadata": {},
   "outputs": [],
   "source": [
    "def resam_1w(df):\n",
    "    df = df.drop(['card_id','time','days_of_week','holyday','installments'],1)\n",
    "    df['date_idx'] = pd.DatetimeIndex(df['date'])\n",
    "    df = df.set_index('date_idx')\n",
    "    store_lst = []\n",
    "    for store_id in df['store_id'].unique():\n",
    "    \n",
    "        temp = df[df['store_id']==store_id]\n",
    "        temp_0 = temp['amount'].resample('1W').sum()\n",
    "        temp_0 = pd.DataFrame(temp_0)\n",
    "        temp_0['target'] = temp_0['amount'].shift(-1).fillna(0).astype('int')\n",
    "        temp_0 = temp_0.reset_index()\n",
    "        \n",
    "        \n",
    "        temp_0['year'], temp_0['month'], temp_0['day'] = 0,0,0\n",
    "        for i in range(len(temp_0)):\n",
    "            temp_0.loc[i,'year'] = temp_0['date_idx'][i].year\n",
    "            temp_0.loc[i,'month'] = temp_0['date_idx'][i].month\n",
    "            temp_0.loc[i, 'day'] = temp_0['date_idx'][i].day\n",
    "        temp_0['store_id'] = store_id\n",
    "        temp_0['counts'] = len(temp_0)\n",
    "        store_lst.append(temp_0)\n",
    "        \n",
    "    return pd.concat(store_lst)"
   ]
  },
  {
   "cell_type": "code",
   "execution_count": 36,
   "metadata": {},
   "outputs": [
    {
     "name": "stdout",
     "output_type": "stream",
     "text": [
      "Wall time: 1min 39s\n"
     ]
    }
   ],
   "source": [
    "%%time\n",
    "train = resam_1w(train)\n",
    "test = resam_1w(test)"
   ]
  },
  {
   "cell_type": "code",
   "execution_count": 37,
   "metadata": {},
   "outputs": [],
   "source": [
    "train = train.drop('date_idx',1)"
   ]
  },
  {
   "cell_type": "code",
   "execution_count": 38,
   "metadata": {},
   "outputs": [],
   "source": [
    "train['year'] = train['year'] - 2016\n",
    "test['year'] = test['year'] - 2016"
   ]
  },
  {
   "cell_type": "code",
   "execution_count": 39,
   "metadata": {},
   "outputs": [],
   "source": [
    "train['day'] = train['day']/31\n",
    "test['day'] = test['day']/31"
   ]
  },
  {
   "cell_type": "code",
   "execution_count": 40,
   "metadata": {},
   "outputs": [],
   "source": [
    "y = train.pop('target')"
   ]
  },
  {
   "cell_type": "code",
   "execution_count": 41,
   "metadata": {},
   "outputs": [],
   "source": [
    "train = train[['counts', 'year', 'month', 'day','amount' ]]"
   ]
  },
  {
   "cell_type": "code",
   "execution_count": 42,
   "metadata": {},
   "outputs": [
    {
     "data": {
      "text/plain": [
       "XGBRegressor(base_score=0.5, booster='gbtree', colsample_bylevel=1,\n",
       "             colsample_bynode=1, colsample_bytree=1, gamma=0, gpu_id=0,\n",
       "             importance_type='gain', interaction_constraints='',\n",
       "             learning_rate=0.300000012, max_delta_step=0, max_depth=6,\n",
       "             min_child_weight=1, missing=nan,\n",
       "             monotone_constraints='(0,0,0,0,0)', n_estimators=100, n_jobs=0,\n",
       "             num_parallel_tree=1, objective='reg:squarederror',\n",
       "             random_state=1123, reg_alpha=0, reg_lambda=1, scale_pos_weight=1,\n",
       "             subsample=1, tree_method='gpu_hist', validate_parameters=1,\n",
       "             verbosity=None)"
      ]
     },
     "execution_count": 42,
     "metadata": {},
     "output_type": "execute_result"
    }
   ],
   "source": [
    "import xgboost as xgb\n",
    "# from sklearn.model_selection import KFold\n",
    "\n",
    "xgb_reg = xgb.XGBRegressor(random_state=1123, tree_method='gpu_hist')\n",
    "xgb_reg.fit(train, y)"
   ]
  },
  {
   "cell_type": "code",
   "execution_count": 82,
   "metadata": {
    "scrolled": true
   },
   "outputs": [
    {
     "name": "stdout",
     "output_type": "stream",
     "text": [
      "0\n",
      "1\n",
      "2\n",
      "3\n",
      "4\n",
      "5\n",
      "6\n",
      "7\n",
      "8\n",
      "9\n",
      "10\n",
      "11\n",
      "12\n",
      "13\n",
      "14\n",
      "15\n",
      "16\n",
      "17\n",
      "18\n",
      "19\n",
      "20\n",
      "21\n",
      "22\n",
      "23\n",
      "24\n",
      "25\n",
      "26\n",
      "27\n",
      "28\n",
      "29\n",
      "30\n",
      "31\n",
      "32\n",
      "33\n",
      "34\n",
      "35\n",
      "36\n",
      "37\n",
      "38\n",
      "39\n",
      "40\n",
      "41\n",
      "42\n",
      "43\n",
      "44\n",
      "45\n",
      "46\n",
      "47\n",
      "48\n",
      "49\n",
      "50\n",
      "51\n",
      "52\n",
      "53\n",
      "54\n",
      "55\n",
      "56\n",
      "57\n",
      "58\n",
      "59\n",
      "60\n",
      "61\n",
      "62\n",
      "63\n",
      "64\n",
      "65\n",
      "66\n",
      "67\n",
      "68\n",
      "69\n",
      "70\n",
      "71\n",
      "72\n",
      "73\n",
      "74\n",
      "75\n",
      "76\n",
      "77\n",
      "78\n",
      "79\n",
      "80\n",
      "81\n",
      "82\n",
      "83\n",
      "84\n",
      "85\n",
      "86\n",
      "87\n",
      "88\n",
      "89\n",
      "90\n",
      "91\n",
      "92\n",
      "93\n",
      "94\n",
      "95\n",
      "96\n",
      "97\n",
      "98\n",
      "99\n",
      "100\n",
      "101\n",
      "102\n",
      "103\n",
      "104\n",
      "105\n",
      "106\n",
      "107\n",
      "108\n",
      "109\n",
      "110\n",
      "111\n",
      "112\n",
      "113\n",
      "114\n",
      "115\n",
      "116\n",
      "117\n",
      "118\n",
      "119\n",
      "120\n",
      "121\n",
      "122\n",
      "123\n",
      "124\n",
      "125\n",
      "126\n",
      "127\n",
      "128\n",
      "129\n",
      "130\n",
      "131\n",
      "132\n",
      "133\n",
      "134\n",
      "135\n",
      "136\n",
      "137\n",
      "138\n",
      "139\n",
      "140\n",
      "141\n",
      "142\n",
      "143\n",
      "144\n",
      "145\n",
      "146\n",
      "147\n",
      "148\n",
      "149\n",
      "150\n",
      "151\n",
      "152\n",
      "153\n",
      "154\n",
      "155\n",
      "156\n",
      "157\n",
      "158\n",
      "159\n",
      "160\n",
      "161\n",
      "162\n",
      "163\n",
      "164\n",
      "165\n",
      "166\n",
      "167\n",
      "168\n",
      "169\n",
      "170\n",
      "171\n",
      "172\n",
      "173\n",
      "174\n",
      "175\n",
      "176\n",
      "177\n",
      "178\n",
      "179\n",
      "180\n",
      "181\n",
      "182\n",
      "183\n",
      "184\n",
      "185\n",
      "186\n",
      "187\n",
      "188\n",
      "189\n",
      "190\n",
      "191\n",
      "192\n",
      "193\n",
      "194\n",
      "195\n",
      "196\n",
      "197\n",
      "198\n",
      "199\n"
     ]
    }
   ],
   "source": [
    "for s_id in test['store_id'].unique():\n",
    "    print(s_id)\n",
    "    temp = test[test['store_id']==s_id]\n",
    "    for i in range(14):\n",
    "        last_row = temp.tail(1)\n",
    "        counts = last_row['counts'].values[0]\n",
    "        store_id = last_row['store_id'].values[0]\n",
    "        next_date = (last_row['date_idx'] + timedelta(days=7)).iloc[-1]\n",
    "        target = xgb_reg.predict(last_row[['counts', 'year', 'month', 'day', 'amount']])\n",
    "        temp = temp.append({'date_idx':next_date, \n",
    "                     'amount':target[0], \n",
    "                     'year':next_date.year-2016,\n",
    "                     'month':next_date.month,\n",
    "                     'day':next_date.day/31,\n",
    "                     'store_id': store_id,\n",
    "                     'counts':counts}, ignore_index=True)\n",
    "    x = temp.iloc[-14:]['amount']\n",
    "    x = np.exp(x)\n",
    "    x = sum(x)\n",
    "    if x == np.inf:\n",
    "        x = 0\n",
    "    else:\n",
    "        x = int(float(str(x)[:4]))\n",
    "\n",
    "    \n",
    "    ss.iloc[s_id][1] = x"
   ]
  },
  {
   "cell_type": "code",
   "execution_count": 83,
   "metadata": {},
   "outputs": [],
   "source": [
    "ss.to_csv('baseline+log.csv',index=False)"
   ]
  },
  {
   "cell_type": "code",
   "execution_count": 49,
   "metadata": {},
   "outputs": [],
   "source": [
    "x = 3.557145051407635"
   ]
  },
  {
   "cell_type": "code",
   "execution_count": 61,
   "metadata": {},
   "outputs": [
    {
     "data": {
      "text/plain": [
       "3667182614420377064420660294981292916736"
      ]
     },
     "execution_count": 61,
     "metadata": {},
     "output_type": "execute_result"
    }
   ],
   "source": [
    "math.floor(x)"
   ]
  },
  {
   "cell_type": "code",
   "execution_count": 65,
   "metadata": {
    "scrolled": true
   },
   "outputs": [
    {
     "data": {
      "text/plain": [
       "3.667182614420377e+39"
      ]
     },
     "execution_count": 65,
     "metadata": {},
     "output_type": "execute_result"
    }
   ],
   "source": [
    "np.trunc(x)"
   ]
  },
  {
   "cell_type": "code",
   "execution_count": 71,
   "metadata": {},
   "outputs": [
    {
     "data": {
      "text/plain": [
       "3.667182614420377e+39"
      ]
     },
     "execution_count": 71,
     "metadata": {},
     "output_type": "execute_result"
    }
   ],
   "source": [
    "x"
   ]
  },
  {
   "cell_type": "code",
   "execution_count": 70,
   "metadata": {},
   "outputs": [
    {
     "data": {
      "text/plain": [
       "3"
      ]
     },
     "execution_count": 70,
     "metadata": {},
     "output_type": "execute_result"
    }
   ],
   "source": [
    "int(str(x)[:1])"
   ]
  },
  {
   "cell_type": "code",
   "execution_count": 76,
   "metadata": {},
   "outputs": [
    {
     "name": "stdout",
     "output_type": "stream",
     "text": [
      "zz5\n",
      "zz6\n",
      "zz7\n"
     ]
    },
    {
     "ename": "ValueError",
     "evalue": "invalid literal for int() with base 10: 'inf'",
     "output_type": "error",
     "traceback": [
      "\u001b[1;31m---------------------------------------------------------------------------\u001b[0m",
      "\u001b[1;31mValueError\u001b[0m                                Traceback (most recent call last)",
      "\u001b[1;32m<ipython-input-76-ef4b30772a84>\u001b[0m in \u001b[0;36m<module>\u001b[1;34m\u001b[0m\n\u001b[0;32m     23\u001b[0m     \u001b[0mx\u001b[0m \u001b[1;33m=\u001b[0m \u001b[0msum\u001b[0m\u001b[1;33m(\u001b[0m\u001b[0mx\u001b[0m\u001b[1;33m)\u001b[0m\u001b[1;33m\u001b[0m\u001b[1;33m\u001b[0m\u001b[0m\n\u001b[0;32m     24\u001b[0m     \u001b[0mprint\u001b[0m\u001b[1;33m(\u001b[0m\u001b[1;34m'zz7'\u001b[0m\u001b[1;33m)\u001b[0m\u001b[1;33m\u001b[0m\u001b[1;33m\u001b[0m\u001b[0m\n\u001b[1;32m---> 25\u001b[1;33m     \u001b[0mx\u001b[0m \u001b[1;33m=\u001b[0m \u001b[0mint\u001b[0m\u001b[1;33m(\u001b[0m\u001b[0mstr\u001b[0m\u001b[1;33m(\u001b[0m\u001b[0mx\u001b[0m\u001b[1;33m)\u001b[0m\u001b[1;33m[\u001b[0m\u001b[1;33m:\u001b[0m\u001b[1;36m4\u001b[0m\u001b[1;33m]\u001b[0m\u001b[1;33m)\u001b[0m\u001b[1;33m\u001b[0m\u001b[1;33m\u001b[0m\u001b[0m\n\u001b[0m\u001b[0;32m     26\u001b[0m     \u001b[0mprint\u001b[0m\u001b[1;33m(\u001b[0m\u001b[1;34m'zz8'\u001b[0m\u001b[1;33m)\u001b[0m\u001b[1;33m\u001b[0m\u001b[1;33m\u001b[0m\u001b[0m\n\u001b[0;32m     27\u001b[0m \u001b[1;33m\u001b[0m\u001b[0m\n",
      "\u001b[1;31mValueError\u001b[0m: invalid literal for int() with base 10: 'inf'"
     ]
    }
   ],
   "source": [
    "s_id = 23\n",
    "temp = test[test['store_id']==s_id]\n",
    "for i in range(14):\n",
    "    last_row = temp.tail(1)\n",
    "    \n",
    "    counts = last_row['counts'].values[0]\n",
    "    store_id = last_row['store_id'].values[0]\n",
    "    next_date = (last_row['date_idx'] + timedelta(days=7)).iloc[-1]\n",
    "    target = xgb_reg.predict(last_row[['counts', 'year', 'month', 'day', 'amount']])\n",
    "    \n",
    "    temp = temp.append({'date_idx':next_date, \n",
    "                 'amount':target[0], \n",
    "                 'year':next_date.year-2016,\n",
    "                 'month':next_date.month,\n",
    "                 'day':next_date.day/31,\n",
    "                 'store_id': store_id,\n",
    "                 'counts':counts}, ignore_index=True)\n",
    "    \n",
    "    x = temp.iloc[-14:]['amount']\n",
    "    print('zz5')\n",
    "    x = np.exp(x)\n",
    "    print('zz6')\n",
    "    x = sum(x)\n",
    "    print('zz7')\n",
    "    if x == np.inf:\n",
    "        x = 0\n",
    "    else:\n",
    "        \n",
    "    ss.iloc[s_id][1] = x"
   ]
  },
  {
   "cell_type": "code",
   "execution_count": 80,
   "metadata": {},
   "outputs": [
    {
     "data": {
      "text/plain": [
       "True"
      ]
     },
     "execution_count": 80,
     "metadata": {},
     "output_type": "execute_result"
    }
   ],
   "source": [
    "x == np.inf"
   ]
  }
 ],
 "metadata": {
  "kernelspec": {
   "display_name": "Python 3",
   "language": "python",
   "name": "python3"
  },
  "language_info": {
   "codemirror_mode": {
    "name": "ipython",
    "version": 3
   },
   "file_extension": ".py",
   "mimetype": "text/x-python",
   "name": "python",
   "nbconvert_exporter": "python",
   "pygments_lexer": "ipython3",
   "version": "3.7.6"
  }
 },
 "nbformat": 4,
 "nbformat_minor": 4
}
