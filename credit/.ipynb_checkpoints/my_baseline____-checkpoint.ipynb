{
 "cells": [
  {
   "cell_type": "markdown",
   "metadata": {},
   "source": [
    "<a href=\"https://dacon.io/competitions/official/136/overview/description/\">대회링크</a>\n",
    "\n",
    "# 대출 상점 총 매출 예측 경진대회\n",
    "\n",
    "한국의 약 2,000개 상점의 신용카드 거래 내역이 제공됩니다. card_id를 기준으로 샘플링되었으며, amount의 단위는 KRW가 아닙니다. 테스트 파일에서 각 상점의 마지막 매출 발생일 다음 날부터 100일 후까지 매출의 총합을 예측해야 합니다.\n",
    "\n",
    " \n",
    "\n",
    "예측한 금액만큼 100일간 대출을 진행합니다. 만약 예측한 금액보다 실제 매출이 적게 발생한다면 원금에 손실을 보게 됩니다. 실제 매출이 예측한 금액 이상으로 발생한다면, 연이율 13%의 이자가 발생합니다.\n",
    "\n",
    "\n",
    "\n",
    "[Data]\n",
    "\n",
    "train.csv - 카드 매출 내역, 2016-08-01부터 2018-07-31까지.\n",
    "\n",
    "\n",
    "test.csv - train.csv랑 같은 형식. test.csv랑 train.csv의 store_id가 같아도 같은 상점인 것은 아님.\n",
    "\n",
    "(월에 최소 5일 이상 데이터가 있는 상점만을 문제에 포함.)\n",
    "\n",
    "- store_id : 각 파일에서의 상점 고유 번호 (해당기한 내 개업 혹은 폐업한 상점도 있음)\n",
    "\n",
    "- date: 거래 일자\n",
    "- time : 거래 시간\n",
    "- card_id : 카드 번호의 hash 값\n",
    "- amount : 매출 금액, 음수인 경우 취소 거래\n",
    "- installments : 할부 개월 수. 일시불은 빈 문자열\n",
    "- days_of_week : 요일, 월요일이 0, 일요일은 6\n",
    "- holiday: 1이면 공휴일, 0이면 공휴일 아님\n",
    "\n",
    "\n",
    "submission.csv – store_id와 total_sales 두 개의 열로 구성. store_id는 test.csv의 store_id와 대응."
   ]
  },
  {
   "cell_type": "markdown",
   "metadata": {},
   "source": [
    "# 접근방법\n",
    "\n",
    "1. 가게마다 주 단위로 자른다\n",
    "2. 주단위로 다음 주의 값을 예측한다"
   ]
  },
  {
   "cell_type": "code",
   "execution_count": 1,
   "metadata": {},
   "outputs": [],
   "source": [
    "import pandas as pd\n",
    "import missingno as msno\n",
    "import numpy as np\n",
    "import matplotlib.pyplot as plt\n",
    "import seaborn as sns\n",
    "import warnings\n",
    "import os\n",
    "warnings.filterwarnings('ignore')\n",
    "from datetime import timedelta"
   ]
  },
  {
   "cell_type": "code",
   "execution_count": 228,
   "metadata": {},
   "outputs": [],
   "source": [
    "def load_data():\n",
    "    train = pd.read_csv('C:\\kaggle_data/credit/train.csv')\n",
    "    test = pd.read_csv('C:\\kaggle_data/credit/test.csv')\n",
    "    ss = pd.read_csv('C:\\kaggle_data/credit/submission.csv')\n",
    "    return train, test, ss\n",
    "train, test, ss = load_data()"
   ]
  },
  {
   "cell_type": "code",
   "execution_count": 229,
   "metadata": {},
   "outputs": [
    {
     "data": {
      "text/html": [
       "<div>\n",
       "<style scoped>\n",
       "    .dataframe tbody tr th:only-of-type {\n",
       "        vertical-align: middle;\n",
       "    }\n",
       "\n",
       "    .dataframe tbody tr th {\n",
       "        vertical-align: top;\n",
       "    }\n",
       "\n",
       "    .dataframe thead th {\n",
       "        text-align: right;\n",
       "    }\n",
       "</style>\n",
       "<table border=\"1\" class=\"dataframe\">\n",
       "  <thead>\n",
       "    <tr style=\"text-align: right;\">\n",
       "      <th></th>\n",
       "      <th>store_id</th>\n",
       "      <th>date</th>\n",
       "      <th>time</th>\n",
       "      <th>card_id</th>\n",
       "      <th>amount</th>\n",
       "      <th>installments</th>\n",
       "      <th>days_of_week</th>\n",
       "      <th>holyday</th>\n",
       "    </tr>\n",
       "  </thead>\n",
       "  <tbody>\n",
       "    <tr>\n",
       "      <th>0</th>\n",
       "      <td>0</td>\n",
       "      <td>2016-12-14</td>\n",
       "      <td>18:05:31</td>\n",
       "      <td>d297bba73f</td>\n",
       "      <td>5</td>\n",
       "      <td>NaN</td>\n",
       "      <td>2</td>\n",
       "      <td>0</td>\n",
       "    </tr>\n",
       "    <tr>\n",
       "      <th>1</th>\n",
       "      <td>0</td>\n",
       "      <td>2016-12-14</td>\n",
       "      <td>18:05:54</td>\n",
       "      <td>d297bba73f</td>\n",
       "      <td>-5</td>\n",
       "      <td>NaN</td>\n",
       "      <td>2</td>\n",
       "      <td>0</td>\n",
       "    </tr>\n",
       "    <tr>\n",
       "      <th>2</th>\n",
       "      <td>0</td>\n",
       "      <td>2016-12-19</td>\n",
       "      <td>12:42:31</td>\n",
       "      <td>0880849c05</td>\n",
       "      <td>144</td>\n",
       "      <td>NaN</td>\n",
       "      <td>0</td>\n",
       "      <td>0</td>\n",
       "    </tr>\n",
       "    <tr>\n",
       "      <th>3</th>\n",
       "      <td>0</td>\n",
       "      <td>2016-12-19</td>\n",
       "      <td>12:48:08</td>\n",
       "      <td>8b4f9e0e95</td>\n",
       "      <td>66</td>\n",
       "      <td>NaN</td>\n",
       "      <td>0</td>\n",
       "      <td>0</td>\n",
       "    </tr>\n",
       "    <tr>\n",
       "      <th>4</th>\n",
       "      <td>0</td>\n",
       "      <td>2016-12-19</td>\n",
       "      <td>13:31:08</td>\n",
       "      <td>7ad237eed0</td>\n",
       "      <td>24</td>\n",
       "      <td>NaN</td>\n",
       "      <td>0</td>\n",
       "      <td>0</td>\n",
       "    </tr>\n",
       "  </tbody>\n",
       "</table>\n",
       "</div>"
      ],
      "text/plain": [
       "   store_id        date      time     card_id  amount  installments  \\\n",
       "0         0  2016-12-14  18:05:31  d297bba73f       5           NaN   \n",
       "1         0  2016-12-14  18:05:54  d297bba73f      -5           NaN   \n",
       "2         0  2016-12-19  12:42:31  0880849c05     144           NaN   \n",
       "3         0  2016-12-19  12:48:08  8b4f9e0e95      66           NaN   \n",
       "4         0  2016-12-19  13:31:08  7ad237eed0      24           NaN   \n",
       "\n",
       "   days_of_week  holyday  \n",
       "0             2        0  \n",
       "1             2        0  \n",
       "2             0        0  \n",
       "3             0        0  \n",
       "4             0        0  "
      ]
     },
     "metadata": {},
     "output_type": "display_data"
    },
    {
     "data": {
      "text/html": [
       "<div>\n",
       "<style scoped>\n",
       "    .dataframe tbody tr th:only-of-type {\n",
       "        vertical-align: middle;\n",
       "    }\n",
       "\n",
       "    .dataframe tbody tr th {\n",
       "        vertical-align: top;\n",
       "    }\n",
       "\n",
       "    .dataframe thead th {\n",
       "        text-align: right;\n",
       "    }\n",
       "</style>\n",
       "<table border=\"1\" class=\"dataframe\">\n",
       "  <thead>\n",
       "    <tr style=\"text-align: right;\">\n",
       "      <th></th>\n",
       "      <th>store_id</th>\n",
       "      <th>date</th>\n",
       "      <th>time</th>\n",
       "      <th>card_id</th>\n",
       "      <th>amount</th>\n",
       "      <th>installments</th>\n",
       "      <th>days_of_week</th>\n",
       "      <th>holyday</th>\n",
       "    </tr>\n",
       "  </thead>\n",
       "  <tbody>\n",
       "    <tr>\n",
       "      <th>0</th>\n",
       "      <td>0</td>\n",
       "      <td>2016-08-01</td>\n",
       "      <td>00:28:15</td>\n",
       "      <td>bf33518373</td>\n",
       "      <td>125</td>\n",
       "      <td>NaN</td>\n",
       "      <td>0</td>\n",
       "      <td>0</td>\n",
       "    </tr>\n",
       "    <tr>\n",
       "      <th>1</th>\n",
       "      <td>0</td>\n",
       "      <td>2016-08-01</td>\n",
       "      <td>01:09:58</td>\n",
       "      <td>7a19a3a92f</td>\n",
       "      <td>90</td>\n",
       "      <td>NaN</td>\n",
       "      <td>0</td>\n",
       "      <td>0</td>\n",
       "    </tr>\n",
       "    <tr>\n",
       "      <th>2</th>\n",
       "      <td>0</td>\n",
       "      <td>2016-08-01</td>\n",
       "      <td>01:47:24</td>\n",
       "      <td>6f9fd7e241</td>\n",
       "      <td>150</td>\n",
       "      <td>NaN</td>\n",
       "      <td>0</td>\n",
       "      <td>0</td>\n",
       "    </tr>\n",
       "    <tr>\n",
       "      <th>3</th>\n",
       "      <td>0</td>\n",
       "      <td>2016-08-01</td>\n",
       "      <td>17:54:43</td>\n",
       "      <td>8bcf1d61b2</td>\n",
       "      <td>362</td>\n",
       "      <td>NaN</td>\n",
       "      <td>0</td>\n",
       "      <td>0</td>\n",
       "    </tr>\n",
       "    <tr>\n",
       "      <th>4</th>\n",
       "      <td>0</td>\n",
       "      <td>2016-08-01</td>\n",
       "      <td>18:48:53</td>\n",
       "      <td>6a722ce674</td>\n",
       "      <td>125</td>\n",
       "      <td>NaN</td>\n",
       "      <td>0</td>\n",
       "      <td>0</td>\n",
       "    </tr>\n",
       "  </tbody>\n",
       "</table>\n",
       "</div>"
      ],
      "text/plain": [
       "   store_id        date      time     card_id  amount  installments  \\\n",
       "0         0  2016-08-01  00:28:15  bf33518373     125           NaN   \n",
       "1         0  2016-08-01  01:09:58  7a19a3a92f      90           NaN   \n",
       "2         0  2016-08-01  01:47:24  6f9fd7e241     150           NaN   \n",
       "3         0  2016-08-01  17:54:43  8bcf1d61b2     362           NaN   \n",
       "4         0  2016-08-01  18:48:53  6a722ce674     125           NaN   \n",
       "\n",
       "   days_of_week  holyday  \n",
       "0             0        0  \n",
       "1             0        0  \n",
       "2             0        0  \n",
       "3             0        0  \n",
       "4             0        0  "
      ]
     },
     "metadata": {},
     "output_type": "display_data"
    }
   ],
   "source": [
    "display(train.head(5))\n",
    "display(test.head(5))"
   ]
  },
  {
   "cell_type": "code",
   "execution_count": 230,
   "metadata": {
    "scrolled": true
   },
   "outputs": [
    {
     "name": "stdout",
     "output_type": "stream",
     "text": [
      "<class 'pandas.core.frame.DataFrame'>\n",
      "RangeIndex: 3362796 entries, 0 to 3362795\n",
      "Data columns (total 8 columns):\n",
      " #   Column        Non-Null Count    Dtype  \n",
      "---  ------        --------------    -----  \n",
      " 0   store_id      3362796 non-null  int64  \n",
      " 1   date          3362796 non-null  object \n",
      " 2   time          3362796 non-null  object \n",
      " 3   card_id       3362796 non-null  object \n",
      " 4   amount        3362796 non-null  int64  \n",
      " 5   installments  16860 non-null    float64\n",
      " 6   days_of_week  3362796 non-null  int64  \n",
      " 7   holyday       3362796 non-null  int64  \n",
      "dtypes: float64(1), int64(4), object(3)\n",
      "memory usage: 205.2+ MB\n"
     ]
    }
   ],
   "source": [
    "train.info(verbose=True, null_counts=True) # non-nullcounts가 안 나오는 경우"
   ]
  },
  {
   "cell_type": "code",
   "execution_count": 231,
   "metadata": {
    "scrolled": true
   },
   "outputs": [
    {
     "name": "stdout",
     "output_type": "stream",
     "text": [
      "<class 'pandas.core.frame.DataFrame'>\n",
      "RangeIndex: 473392 entries, 0 to 473391\n",
      "Data columns (total 8 columns):\n",
      " #   Column        Non-Null Count   Dtype  \n",
      "---  ------        --------------   -----  \n",
      " 0   store_id      473392 non-null  int64  \n",
      " 1   date          473392 non-null  object \n",
      " 2   time          473392 non-null  object \n",
      " 3   card_id       473392 non-null  object \n",
      " 4   amount        473392 non-null  int64  \n",
      " 5   installments  1779 non-null    float64\n",
      " 6   days_of_week  473392 non-null  int64  \n",
      " 7   holyday       473392 non-null  int64  \n",
      "dtypes: float64(1), int64(4), object(3)\n",
      "memory usage: 28.9+ MB\n"
     ]
    }
   ],
   "source": [
    "test.info()"
   ]
  },
  {
   "cell_type": "code",
   "execution_count": 232,
   "metadata": {},
   "outputs": [
    {
     "data": {
      "text/plain": [
       "<matplotlib.axes._subplots.AxesSubplot at 0x1f46cec19c8>"
      ]
     },
     "execution_count": 232,
     "metadata": {},
     "output_type": "execute_result"
    },
    {
     "data": {
      "image/png": "[encoded data removed]",
      "text/plain": [
       "<Figure size 1800x720 with 2 Axes>"
      ]
     },
     "metadata": {
      "needs_background": "light"
     },
     "output_type": "display_data"
    }
   ],
   "source": [
    "msno.matrix(train[['store_id', 'date', 'time', 'card_id', 'amount', 'days_of_week', 'holyday']])"
   ]
  },
  {
   "cell_type": "code",
   "execution_count": 233,
   "metadata": {},
   "outputs": [
    {
     "data": {
      "text/plain": [
       "<matplotlib.axes._subplots.AxesSubplot at 0x1f4a17e2688>"
      ]
     },
     "execution_count": 233,
     "metadata": {},
     "output_type": "execute_result"
    },
    {
     "data": {
      "image/png": "[encoded data removed]",
      "text/plain": [
       "<Figure size 1800x720 with 2 Axes>"
      ]
     },
     "metadata": {
      "needs_background": "light"
     },
     "output_type": "display_data"
    }
   ],
   "source": [
    "msno.matrix(test[['store_id', 'date', 'time', 'card_id', 'amount', 'days_of_week', 'holyday']])"
   ]
  },
  {
   "cell_type": "markdown",
   "metadata": {},
   "source": [
    "# 7일 단위로 resampling\n",
    "- 2016년 8월 1일은 월요일\n",
    "- resample 후 나오는 값의 의미는 index까지의 집계"
   ]
  },
  {
   "cell_type": "markdown",
   "metadata": {},
   "source": [
    "# 함수화\n",
    "- df를 넣어준다\n",
    "- 필요없는 칼럼 드랍\n",
    "- date로 인덱싱\n",
    "- store_id별로 for문을 돌린다\n",
    "    - 주단위 집계한다\n",
    "    - year, month, day로 columns을 나눠서 리턴\n",
    "- lst에 append해둔다\n",
    "- concat하여 반환한다"
   ]
  },
  {
   "cell_type": "code",
   "execution_count": 234,
   "metadata": {},
   "outputs": [],
   "source": [
    "def resam_1w(df):\n",
    "    df = df.drop(['card_id','time','days_of_week','holyday','installments'],1)\n",
    "    df['date_idx'] = pd.DatetimeIndex(df['date'])\n",
    "    df = df.set_index('date_idx')\n",
    "    store_lst = []\n",
    "    for store_id in df['store_id'].unique():\n",
    "    \n",
    "        temp = df[df['store_id']==store_id]\n",
    "        temp_0 = temp['amount'].resample('1W').sum()\n",
    "        temp_0 = pd.DataFrame(temp_0)\n",
    "        temp_0['target'] = temp_0['amount'].shift(-1).fillna(0).astype('int')\n",
    "        temp_0 = temp_0.reset_index()\n",
    "        \n",
    "        temp_0['year'], temp_0['month'], temp_0['day'] = 0,0,0\n",
    "        for i in range(len(temp_0)):\n",
    "            temp_0.loc[i,'year'] = temp_0['date_idx'][i].year\n",
    "            temp_0.loc[i,'month'] = temp_0['date_idx'][i].month\n",
    "            temp_0.loc[i, 'day'] = temp_0['date_idx'][i].day\n",
    "        temp_0['store_id'] = store_id\n",
    "        temp_0['counts'] = len(temp_0)\n",
    "        store_lst.append(temp_0)\n",
    "        \n",
    "    return pd.concat(store_lst)"
   ]
  },
  {
   "cell_type": "code",
   "execution_count": 235,
   "metadata": {},
   "outputs": [
    {
     "name": "stdout",
     "output_type": "stream",
     "text": [
      "Wall time: 1min 39s\n"
     ]
    }
   ],
   "source": [
    "%%time\n",
    "train = resam_1w(train)\n",
    "test = resam_1w(test)"
   ]
  },
  {
   "cell_type": "code",
   "execution_count": 236,
   "metadata": {},
   "outputs": [
    {
     "data": {
      "text/html": [
       "<div>\n",
       "<style scoped>\n",
       "    .dataframe tbody tr th:only-of-type {\n",
       "        vertical-align: middle;\n",
       "    }\n",
       "\n",
       "    .dataframe tbody tr th {\n",
       "        vertical-align: top;\n",
       "    }\n",
       "\n",
       "    .dataframe thead th {\n",
       "        text-align: right;\n",
       "    }\n",
       "</style>\n",
       "<table border=\"1\" class=\"dataframe\">\n",
       "  <thead>\n",
       "    <tr style=\"text-align: right;\">\n",
       "      <th></th>\n",
       "      <th>date_idx</th>\n",
       "      <th>amount</th>\n",
       "      <th>target</th>\n",
       "      <th>year</th>\n",
       "      <th>month</th>\n",
       "      <th>day</th>\n",
       "      <th>store_id</th>\n",
       "      <th>counts</th>\n",
       "    </tr>\n",
       "  </thead>\n",
       "  <tbody>\n",
       "    <tr>\n",
       "      <th>0</th>\n",
       "      <td>2016-12-18</td>\n",
       "      <td>0</td>\n",
       "      <td>83568</td>\n",
       "      <td>2016</td>\n",
       "      <td>12</td>\n",
       "      <td>18</td>\n",
       "      <td>0</td>\n",
       "      <td>86</td>\n",
       "    </tr>\n",
       "    <tr>\n",
       "      <th>1</th>\n",
       "      <td>2016-12-25</td>\n",
       "      <td>83568</td>\n",
       "      <td>65464</td>\n",
       "      <td>2016</td>\n",
       "      <td>12</td>\n",
       "      <td>25</td>\n",
       "      <td>0</td>\n",
       "      <td>86</td>\n",
       "    </tr>\n",
       "    <tr>\n",
       "      <th>2</th>\n",
       "      <td>2017-01-01</td>\n",
       "      <td>65464</td>\n",
       "      <td>63019</td>\n",
       "      <td>2017</td>\n",
       "      <td>1</td>\n",
       "      <td>1</td>\n",
       "      <td>0</td>\n",
       "      <td>86</td>\n",
       "    </tr>\n",
       "    <tr>\n",
       "      <th>3</th>\n",
       "      <td>2017-01-08</td>\n",
       "      <td>63019</td>\n",
       "      <td>72032</td>\n",
       "      <td>2017</td>\n",
       "      <td>1</td>\n",
       "      <td>8</td>\n",
       "      <td>0</td>\n",
       "      <td>86</td>\n",
       "    </tr>\n",
       "    <tr>\n",
       "      <th>4</th>\n",
       "      <td>2017-01-15</td>\n",
       "      <td>72032</td>\n",
       "      <td>66665</td>\n",
       "      <td>2017</td>\n",
       "      <td>1</td>\n",
       "      <td>15</td>\n",
       "      <td>0</td>\n",
       "      <td>86</td>\n",
       "    </tr>\n",
       "    <tr>\n",
       "      <th>...</th>\n",
       "      <td>...</td>\n",
       "      <td>...</td>\n",
       "      <td>...</td>\n",
       "      <td>...</td>\n",
       "      <td>...</td>\n",
       "      <td>...</td>\n",
       "      <td>...</td>\n",
       "      <td>...</td>\n",
       "    </tr>\n",
       "    <tr>\n",
       "      <th>69</th>\n",
       "      <td>2018-07-08</td>\n",
       "      <td>0</td>\n",
       "      <td>1225</td>\n",
       "      <td>2018</td>\n",
       "      <td>7</td>\n",
       "      <td>8</td>\n",
       "      <td>1799</td>\n",
       "      <td>74</td>\n",
       "    </tr>\n",
       "    <tr>\n",
       "      <th>70</th>\n",
       "      <td>2018-07-15</td>\n",
       "      <td>1225</td>\n",
       "      <td>1925</td>\n",
       "      <td>2018</td>\n",
       "      <td>7</td>\n",
       "      <td>15</td>\n",
       "      <td>1799</td>\n",
       "      <td>74</td>\n",
       "    </tr>\n",
       "    <tr>\n",
       "      <th>71</th>\n",
       "      <td>2018-07-22</td>\n",
       "      <td>1925</td>\n",
       "      <td>300</td>\n",
       "      <td>2018</td>\n",
       "      <td>7</td>\n",
       "      <td>22</td>\n",
       "      <td>1799</td>\n",
       "      <td>74</td>\n",
       "    </tr>\n",
       "    <tr>\n",
       "      <th>72</th>\n",
       "      <td>2018-07-29</td>\n",
       "      <td>300</td>\n",
       "      <td>325</td>\n",
       "      <td>2018</td>\n",
       "      <td>7</td>\n",
       "      <td>29</td>\n",
       "      <td>1799</td>\n",
       "      <td>74</td>\n",
       "    </tr>\n",
       "    <tr>\n",
       "      <th>73</th>\n",
       "      <td>2018-08-05</td>\n",
       "      <td>325</td>\n",
       "      <td>0</td>\n",
       "      <td>2018</td>\n",
       "      <td>8</td>\n",
       "      <td>5</td>\n",
       "      <td>1799</td>\n",
       "      <td>74</td>\n",
       "    </tr>\n",
       "  </tbody>\n",
       "</table>\n",
       "<p>121729 rows × 8 columns</p>\n",
       "</div>"
      ],
      "text/plain": [
       "     date_idx  amount  target  year  month  day  store_id  counts\n",
       "0  2016-12-18       0   83568  2016     12   18         0      86\n",
       "1  2016-12-25   83568   65464  2016     12   25         0      86\n",
       "2  2017-01-01   65464   63019  2017      1    1         0      86\n",
       "3  2017-01-08   63019   72032  2017      1    8         0      86\n",
       "4  2017-01-15   72032   66665  2017      1   15         0      86\n",
       "..        ...     ...     ...   ...    ...  ...       ...     ...\n",
       "69 2018-07-08       0    1225  2018      7    8      1799      74\n",
       "70 2018-07-15    1225    1925  2018      7   15      1799      74\n",
       "71 2018-07-22    1925     300  2018      7   22      1799      74\n",
       "72 2018-07-29     300     325  2018      7   29      1799      74\n",
       "73 2018-08-05     325       0  2018      8    5      1799      74\n",
       "\n",
       "[121729 rows x 8 columns]"
      ]
     },
     "execution_count": 236,
     "metadata": {},
     "output_type": "execute_result"
    }
   ],
   "source": [
    "train"
   ]
  },
  {
   "cell_type": "code",
   "execution_count": 237,
   "metadata": {},
   "outputs": [],
   "source": [
    "train = train.drop('date_idx',1)\n",
    "train['year'] = train['year'] - 2016\n",
    "train['day'] = train['day']/31"
   ]
  },
  {
   "cell_type": "code",
   "execution_count": 238,
   "metadata": {},
   "outputs": [],
   "source": [
    "y = train.pop('target')\n",
    "train = train[['counts', 'year', 'month', 'day','amount' ]]"
   ]
  },
  {
   "cell_type": "code",
   "execution_count": 239,
   "metadata": {},
   "outputs": [],
   "source": [
    "# test = test.drop('date_idx',1)\n",
    "test['year'] = test['year'] - 2016\n",
    "test['day'] = test['day']/31"
   ]
  },
  {
   "cell_type": "code",
   "execution_count": 240,
   "metadata": {},
   "outputs": [],
   "source": [
    "import xgboost as xgb\n",
    "# from sklearn.model_selection import KFold\n",
    "\n",
    "xgb_reg = xgb.XGBRegressor(random_state=1123, tree_method='gpu_hist')"
   ]
  },
  {
   "cell_type": "code",
   "execution_count": 241,
   "metadata": {
    "scrolled": true
   },
   "outputs": [
    {
     "data": {
      "text/plain": [
       "XGBRegressor(base_score=0.5, booster='gbtree', colsample_bylevel=1,\n",
       "             colsample_bynode=1, colsample_bytree=1, gamma=0, gpu_id=0,\n",
       "             importance_type='gain', interaction_constraints='',\n",
       "             learning_rate=0.300000012, max_delta_step=0, max_depth=6,\n",
       "             min_child_weight=1, missing=nan,\n",
       "             monotone_constraints='(0,0,0,0,0)', n_estimators=100, n_jobs=0,\n",
       "             num_parallel_tree=1, objective='reg:squarederror',\n",
       "             random_state=1123, reg_alpha=0, reg_lambda=1, scale_pos_weight=1,\n",
       "             subsample=1, tree_method='gpu_hist', validate_parameters=1,\n",
       "             verbosity=None)"
      ]
     },
     "execution_count": 241,
     "metadata": {},
     "output_type": "execute_result"
    }
   ],
   "source": [
    "xgb_reg.fit(train, y)"
   ]
  },
  {
   "cell_type": "markdown",
   "metadata": {},
   "source": [
    "# 각 가게마다 규모같은 게 있을테니 총 거래건수를 하나 만들어줘서 넣어야겠다."
   ]
  },
  {
   "cell_type": "markdown",
   "metadata": {},
   "source": [
    "# test 예측을 위한 전처리\n",
    "- store id별로 마지막 날짜를 찾아낸다 last_day\n",
    "- for 14번\n",
    "    - last day의 target을 예측한다  # model.predict(temp.tail(1))\n",
    "    - last day의 year + month + day 를 합쳐서 datetime으로 만들고 +7일\n",
    "    - {'year': year, month: month, day: day, amount: target, store_id: store_id}\n",
    "    - 위 딕셔너리를 append"
   ]
  },
  {
   "cell_type": "code",
   "execution_count": 242,
   "metadata": {},
   "outputs": [],
   "source": [
    "for s_id in test['store_id'].unique():\n",
    "    temp = test[test['store_id']==s_id]\n",
    "    for i in range(14):\n",
    "        last_row = temp.tail(1)\n",
    "        counts = last_row['counts'].values[0]\n",
    "        store_id = last_row['store_id'].values[0]\n",
    "        next_date = (last_row['date_idx'] + timedelta(days=7)).iloc[-1]\n",
    "        target = xgb_reg.predict(last_row[['counts', 'year', 'month', 'day', 'amount']])\n",
    "        temp = temp.append({'date_idx':next_date, \n",
    "                     'amount':target[0], \n",
    "                     'year':next_date.year-2016,\n",
    "                     'month':next_date.month,\n",
    "                     'day':next_date.day/31,\n",
    "                     'store_id': store_id,\n",
    "                     'counts':counts}, ignore_index=True)\n",
    "    \n",
    "    \n",
    "    ss.iloc[s_id][1] = temp.iloc[-14:]['amount'].sum()*0.7"
   ]
  },
  {
   "cell_type": "code",
   "execution_count": 243,
   "metadata": {},
   "outputs": [],
   "source": [
    "ss.to_csv('half_baseline.csv',index=False)"
   ]
  }
 ],
 "metadata": {
  "kernelspec": {
   "display_name": "Python 3",
   "language": "python",
   "name": "python3"
  },
  "language_info": {
   "codemirror_mode": {
    "name": "ipython",
    "version": 3
   },
   "file_extension": ".py",
   "mimetype": "text/x-python",
   "name": "python",
   "nbconvert_exporter": "python",
   "pygments_lexer": "ipython3",
   "version": "3.7.6"
  }
 },
 "nbformat": 4,
 "nbformat_minor": 4
}
