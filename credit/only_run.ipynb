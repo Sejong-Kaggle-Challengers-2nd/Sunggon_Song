{
 "cells": [
  {
   "cell_type": "code",
   "execution_count": 1,
   "metadata": {},
   "outputs": [],
   "source": [
    "import pandas as pd\n",
    "import numpy as np\n",
    "from datetime import timedelta\n",
    "\n",
    "def load_data():\n",
    "    train = pd.read_csv('C:\\kaggle_data/credit/train.csv')\n",
    "    test = pd.read_csv('C:\\kaggle_data/credit/test.csv')\n",
    "    ss = pd.read_csv('C:\\kaggle_data/credit/submission.csv')\n",
    "    return train, test, ss\n",
    "\n",
    "\n",
    "def resam_1w(df):\n",
    "    df = df.drop(['card_id','time','days_of_week','holyday','installments'],1)\n",
    "    df['date_idx'] = pd.DatetimeIndex(df['date'])\n",
    "    df = df.set_index('date_idx')\n",
    "    store_lst = []\n",
    "    for store_id in df['store_id'].unique():\n",
    "    \n",
    "        temp = df[df['store_id']==store_id]\n",
    "        temp_0 = temp['amount'].resample('1W').sum()\n",
    "        temp_0 = pd.DataFrame(temp_0)\n",
    "        temp_0['target'] = temp_0['amount'].shift(-1).fillna(0).astype('int')\n",
    "        temp_0 = temp_0.reset_index()\n",
    "        \n",
    "        temp_0['year'], temp_0['month'], temp_0['day'] = 0,0,0\n",
    "        for i in range(len(temp_0)):\n",
    "            temp_0.loc[i,'year'] = temp_0['date_idx'][i].year\n",
    "            temp_0.loc[i,'month'] = temp_0['date_idx'][i].month\n",
    "            temp_0.loc[i, 'day'] = temp_0['date_idx'][i].day\n",
    "        temp_0['store_id'] = store_id\n",
    "        temp_0['counts'] = len(temp_0)\n",
    "        store_lst.append(temp_0)\n",
    "        \n",
    "    return pd.concat(store_lst)"
   ]
  },
  {
   "cell_type": "code",
   "execution_count": 4,
   "metadata": {},
   "outputs": [
    {
     "name": "stdout",
     "output_type": "stream",
     "text": [
      "됐습니당\n",
      "Wall time: 1min 53s\n"
     ]
    }
   ],
   "source": [
    "%%time\n",
    "\n",
    "train, test, ss = load_data()\n",
    "\n",
    "train = resam_1w(train)\n",
    "test = resam_1w(test)\n",
    "\n",
    "train = train.drop('date_idx',1)\n",
    "train['year'] = train['year'] - 2016\n",
    "train['day'] = train['day']/31\n",
    "\n",
    "y = train.pop('target')\n",
    "train = train[['counts', 'year', 'month', 'day','amount' ]]\n",
    "\n",
    "# test = test.drop('date_idx',1)\n",
    "test['year'] = test['year'] - 2016\n",
    "test['day'] = test['day']/31\n",
    "\n",
    "import xgboost as xgb\n",
    "# from sklearn.model_selection import KFold\n",
    "\n",
    "xgb_reg = xgb.XGBRegressor(random_state=1123, tree_method='gpu_hist')\n",
    "\n",
    "xgb_reg.fit(train, y)\n",
    "for s_id in test['store_id'].unique():\n",
    "    temp = test[test['store_id']==s_id]\n",
    "    for i in range(14):\n",
    "        last_row = temp.tail(1)\n",
    "        counts = last_row['counts'].values[0]\n",
    "        store_id = last_row['store_id'].values[0]\n",
    "        next_date = (last_row['date_idx'] + timedelta(days=7)).iloc[-1]\n",
    "        target = xgb_reg.predict(last_row[['counts', 'year', 'month', 'day', 'amount']])\n",
    "        temp = temp.append({'date_idx':next_date, \n",
    "                     'amount':target[0], \n",
    "                     'year':next_date.year-2016,\n",
    "                     'month':next_date.month,\n",
    "                     'day':next_date.day/31,\n",
    "                     'store_id': store_id,\n",
    "                     'counts':counts}, ignore_index=True)\n",
    "    \n",
    "    \n",
    "    ss.iloc[s_id][1] = temp.iloc[-14:]['amount'].sum()/98*100\n",
    "    \n",
    "ss.to_csv('half_baseline.csv',index=False)\n",
    "print('됐습니당')"
   ]
  }
 ],
 "metadata": {
  "kernelspec": {
   "display_name": "Python 3",
   "language": "python",
   "name": "python3"
  },
  "language_info": {
   "codemirror_mode": {
    "name": "ipython",
    "version": 3
   },
   "file_extension": ".py",
   "mimetype": "text/x-python",
   "name": "python",
   "nbconvert_exporter": "python",
   "pygments_lexer": "ipython3",
   "version": "3.7.6"
  }
 },
 "nbformat": 4,
 "nbformat_minor": 4
}
